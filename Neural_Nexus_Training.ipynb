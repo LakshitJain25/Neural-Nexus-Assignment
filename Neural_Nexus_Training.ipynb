{
  "nbformat": 4,
  "nbformat_minor": 0,
  "metadata": {
    "colab": {
      "provenance": []
    },
    "kernelspec": {
      "name": "python3",
      "display_name": "Python 3"
    },
    "language_info": {
      "name": "python"
    }
  },
  "cells": [
    {
      "cell_type": "code",
      "execution_count": 1,
      "metadata": {
        "id": "GLkoTDUUIDuA"
      },
      "outputs": [],
      "source": [
        "import pandas as pd\n",
        "import numpy as np\n",
        "import matplotlib.pyplot as plt\n",
        "import seaborn as sns"
      ]
    },
    {
      "cell_type": "code",
      "source": [
        "from google.colab import drive\n",
        "drive.mount('/content/drive')"
      ],
      "metadata": {
        "colab": {
          "base_uri": "https://localhost:8080/"
        },
        "id": "n_U_-hPQeEbR",
        "outputId": "91772e4b-0248-4155-e274-f9916a72745c"
      },
      "execution_count": 2,
      "outputs": [
        {
          "output_type": "stream",
          "name": "stdout",
          "text": [
            "Mounted at /content/drive\n"
          ]
        }
      ]
    },
    {
      "cell_type": "code",
      "source": [
        "data_path = \"/content/drive/MyDrive/Projects/NNN/Leads-data.csv\"\n",
        "df = pd.read_csv(data_path)"
      ],
      "metadata": {
        "id": "uFmn5M60IlNA"
      },
      "execution_count": 3,
      "outputs": []
    },
    {
      "cell_type": "code",
      "source": [
        "df.head()"
      ],
      "metadata": {
        "colab": {
          "base_uri": "https://localhost:8080/",
          "height": 357
        },
        "id": "S0i6ND9MI29I",
        "outputId": "18cd53b9-aa48-4f41-ac95-93d1646303f9"
      },
      "execution_count": 4,
      "outputs": [
        {
          "output_type": "execute_result",
          "data": {
            "text/plain": [
              "   Unnamed: 0                                           Agent_id status  \\\n",
              "0           0  1deba9e96f404694373de9749ddd1ca8aa7bb823145a6f...   LOST   \n",
              "1           1  299ae77a4ef350ae0dd37d6bba1c002d03444fb1edb236...   LOST   \n",
              "2           2  c213697430c006013012dd2aca82dd9732aa0a1a6bca13...   LOST   \n",
              "3           3  eac9815a500f908736d303e23aa227f0957177b0e6756b...   LOST   \n",
              "4           4  1deba9e96f404694373de9749ddd1ca8aa7bb823145a6f...   LOST   \n",
              "\n",
              "      lost_reason                budget                             duration  \\\n",
              "0  Not responding                   NaN                                  NaN   \n",
              "1      Low budget                   NaN                                  NaN   \n",
              "2  Not responding  £121 - £180 Per Week  Full Year Course Stay 40 - 44 weeks   \n",
              "3      Low budget                   0-0                                    0   \n",
              "4       Junk lead                   NaN                                  NaN   \n",
              "\n",
              "                                              source  \\\n",
              "0  9b2d5b4678781e53038e91ea5324530a03f27dc1d0e5f6...   \n",
              "1  9b2d5b4678781e53038e91ea5324530a03f27dc1d0e5f6...   \n",
              "2  7aae3e886e89fc1187a5c47d6cea1c22998ee610ade1f2...   \n",
              "3  ba2d0a29556ac20f86f45e4543c0825428cba33fd7a9ea...   \n",
              "4  9b2d5b4678781e53038e91ea5324530a03f27dc1d0e5f6...   \n",
              "\n",
              "                                         source_city  \\\n",
              "0  9b2d5b4678781e53038e91ea5324530a03f27dc1d0e5f6...   \n",
              "1  9b2d5b4678781e53038e91ea5324530a03f27dc1d0e5f6...   \n",
              "2  9b8cc3c63cdf447e463c11544924bf027945cbd29675f7...   \n",
              "3  a5f0d2d08eb0592087e3a3a2f9c1ba2c67cc30f2efd2bd...   \n",
              "4  9b2d5b4678781e53038e91ea5324530a03f27dc1d0e5f6...   \n",
              "\n",
              "                                      source_country  \\\n",
              "0  9b2d5b4678781e53038e91ea5324530a03f27dc1d0e5f6...   \n",
              "1  9b2d5b4678781e53038e91ea5324530a03f27dc1d0e5f6...   \n",
              "2  e09e10e67812e9d236ad900e5d46b4308fc62f5d69446a...   \n",
              "3  e09e10e67812e9d236ad900e5d46b4308fc62f5d69446a...   \n",
              "4  9b2d5b4678781e53038e91ea5324530a03f27dc1d0e5f6...   \n",
              "\n",
              "                                          utm_source  \\\n",
              "0  3d59f7548e1af2151b64135003ce63c0a484c26b9b8b16...   \n",
              "1  3d59f7548e1af2151b64135003ce63c0a484c26b9b8b16...   \n",
              "2  bbdefa2950f49882f295b1285d4fa9dec45fc4144bfb07...   \n",
              "3  bbdefa2950f49882f295b1285d4fa9dec45fc4144bfb07...   \n",
              "4  3d59f7548e1af2151b64135003ce63c0a484c26b9b8b16...   \n",
              "\n",
              "                                          utm_medium  \\\n",
              "0  268ad70eb5bc4737a2ae28162cbca30118cc94520e49ef...   \n",
              "1  268ad70eb5bc4737a2ae28162cbca30118cc94520e49ef...   \n",
              "2  09076eb7665d1fb9389c7c4517fee0b00e43092eb34821...   \n",
              "3  09076eb7665d1fb9389c7c4517fee0b00e43092eb34821...   \n",
              "4  268ad70eb5bc4737a2ae28162cbca30118cc94520e49ef...   \n",
              "\n",
              "                                            des_city  \\\n",
              "0  ecc0e7dc084f141b29479058967d0bc07dee25d9690a98...   \n",
              "1  5372372f3bf5896820cb2819300c3e681820d82c6efc54...   \n",
              "2  11ab03a1a8c367191355c152f39fe28cae5e426fce49ef...   \n",
              "3  19372fa44c57a01c37a5a8418779ca3d99b0b59731fb35...   \n",
              "4  9b2d5b4678781e53038e91ea5324530a03f27dc1d0e5f6...   \n",
              "\n",
              "                                         des_country room_type  \\\n",
              "0  8d23a6e37e0a6431a8f1b43a91026dcff51170a89a6512...       NaN   \n",
              "1  8d23a6e37e0a6431a8f1b43a91026dcff51170a89a6512...       NaN   \n",
              "2  8d23a6e37e0a6431a8f1b43a91026dcff51170a89a6512...   Ensuite   \n",
              "3  8d23a6e37e0a6431a8f1b43a91026dcff51170a89a6512...       NaN   \n",
              "4  9b2d5b4678781e53038e91ea5324530a03f27dc1d0e5f6...       NaN   \n",
              "\n",
              "                                             lead_id  \n",
              "0  cd5dc0d9393f3980d11d4ba6f88f8110c2b7a7f7796307...  \n",
              "1  b94693673a5f7178d1b114e4004ad52377d3244dd24a3d...  \n",
              "2  96ea4e2bf04496c044745938c0299c264c3f4ba079e572...  \n",
              "3  1d2b34d8add02a182a4129023766ca4585a8ddced0e5b3...  \n",
              "4  fc10fffd29cfbe93c55158fb47752a7501c211d253468c...  "
            ],
            "text/html": [
              "\n",
              "  <div id=\"df-6c177c5a-febd-42e1-ab3e-a56d198a03cd\">\n",
              "    <div class=\"colab-df-container\">\n",
              "      <div>\n",
              "<style scoped>\n",
              "    .dataframe tbody tr th:only-of-type {\n",
              "        vertical-align: middle;\n",
              "    }\n",
              "\n",
              "    .dataframe tbody tr th {\n",
              "        vertical-align: top;\n",
              "    }\n",
              "\n",
              "    .dataframe thead th {\n",
              "        text-align: right;\n",
              "    }\n",
              "</style>\n",
              "<table border=\"1\" class=\"dataframe\">\n",
              "  <thead>\n",
              "    <tr style=\"text-align: right;\">\n",
              "      <th></th>\n",
              "      <th>Unnamed: 0</th>\n",
              "      <th>Agent_id</th>\n",
              "      <th>status</th>\n",
              "      <th>lost_reason</th>\n",
              "      <th>budget</th>\n",
              "      <th>duration</th>\n",
              "      <th>source</th>\n",
              "      <th>source_city</th>\n",
              "      <th>source_country</th>\n",
              "      <th>utm_source</th>\n",
              "      <th>utm_medium</th>\n",
              "      <th>des_city</th>\n",
              "      <th>des_country</th>\n",
              "      <th>room_type</th>\n",
              "      <th>lead_id</th>\n",
              "    </tr>\n",
              "  </thead>\n",
              "  <tbody>\n",
              "    <tr>\n",
              "      <th>0</th>\n",
              "      <td>0</td>\n",
              "      <td>1deba9e96f404694373de9749ddd1ca8aa7bb823145a6f...</td>\n",
              "      <td>LOST</td>\n",
              "      <td>Not responding</td>\n",
              "      <td>NaN</td>\n",
              "      <td>NaN</td>\n",
              "      <td>9b2d5b4678781e53038e91ea5324530a03f27dc1d0e5f6...</td>\n",
              "      <td>9b2d5b4678781e53038e91ea5324530a03f27dc1d0e5f6...</td>\n",
              "      <td>9b2d5b4678781e53038e91ea5324530a03f27dc1d0e5f6...</td>\n",
              "      <td>3d59f7548e1af2151b64135003ce63c0a484c26b9b8b16...</td>\n",
              "      <td>268ad70eb5bc4737a2ae28162cbca30118cc94520e49ef...</td>\n",
              "      <td>ecc0e7dc084f141b29479058967d0bc07dee25d9690a98...</td>\n",
              "      <td>8d23a6e37e0a6431a8f1b43a91026dcff51170a89a6512...</td>\n",
              "      <td>NaN</td>\n",
              "      <td>cd5dc0d9393f3980d11d4ba6f88f8110c2b7a7f7796307...</td>\n",
              "    </tr>\n",
              "    <tr>\n",
              "      <th>1</th>\n",
              "      <td>1</td>\n",
              "      <td>299ae77a4ef350ae0dd37d6bba1c002d03444fb1edb236...</td>\n",
              "      <td>LOST</td>\n",
              "      <td>Low budget</td>\n",
              "      <td>NaN</td>\n",
              "      <td>NaN</td>\n",
              "      <td>9b2d5b4678781e53038e91ea5324530a03f27dc1d0e5f6...</td>\n",
              "      <td>9b2d5b4678781e53038e91ea5324530a03f27dc1d0e5f6...</td>\n",
              "      <td>9b2d5b4678781e53038e91ea5324530a03f27dc1d0e5f6...</td>\n",
              "      <td>3d59f7548e1af2151b64135003ce63c0a484c26b9b8b16...</td>\n",
              "      <td>268ad70eb5bc4737a2ae28162cbca30118cc94520e49ef...</td>\n",
              "      <td>5372372f3bf5896820cb2819300c3e681820d82c6efc54...</td>\n",
              "      <td>8d23a6e37e0a6431a8f1b43a91026dcff51170a89a6512...</td>\n",
              "      <td>NaN</td>\n",
              "      <td>b94693673a5f7178d1b114e4004ad52377d3244dd24a3d...</td>\n",
              "    </tr>\n",
              "    <tr>\n",
              "      <th>2</th>\n",
              "      <td>2</td>\n",
              "      <td>c213697430c006013012dd2aca82dd9732aa0a1a6bca13...</td>\n",
              "      <td>LOST</td>\n",
              "      <td>Not responding</td>\n",
              "      <td>£121 - £180 Per Week</td>\n",
              "      <td>Full Year Course Stay 40 - 44 weeks</td>\n",
              "      <td>7aae3e886e89fc1187a5c47d6cea1c22998ee610ade1f2...</td>\n",
              "      <td>9b8cc3c63cdf447e463c11544924bf027945cbd29675f7...</td>\n",
              "      <td>e09e10e67812e9d236ad900e5d46b4308fc62f5d69446a...</td>\n",
              "      <td>bbdefa2950f49882f295b1285d4fa9dec45fc4144bfb07...</td>\n",
              "      <td>09076eb7665d1fb9389c7c4517fee0b00e43092eb34821...</td>\n",
              "      <td>11ab03a1a8c367191355c152f39fe28cae5e426fce49ef...</td>\n",
              "      <td>8d23a6e37e0a6431a8f1b43a91026dcff51170a89a6512...</td>\n",
              "      <td>Ensuite</td>\n",
              "      <td>96ea4e2bf04496c044745938c0299c264c3f4ba079e572...</td>\n",
              "    </tr>\n",
              "    <tr>\n",
              "      <th>3</th>\n",
              "      <td>3</td>\n",
              "      <td>eac9815a500f908736d303e23aa227f0957177b0e6756b...</td>\n",
              "      <td>LOST</td>\n",
              "      <td>Low budget</td>\n",
              "      <td>0-0</td>\n",
              "      <td>0</td>\n",
              "      <td>ba2d0a29556ac20f86f45e4543c0825428cba33fd7a9ea...</td>\n",
              "      <td>a5f0d2d08eb0592087e3a3a2f9c1ba2c67cc30f2efd2bd...</td>\n",
              "      <td>e09e10e67812e9d236ad900e5d46b4308fc62f5d69446a...</td>\n",
              "      <td>bbdefa2950f49882f295b1285d4fa9dec45fc4144bfb07...</td>\n",
              "      <td>09076eb7665d1fb9389c7c4517fee0b00e43092eb34821...</td>\n",
              "      <td>19372fa44c57a01c37a5a8418779ca3d99b0b59731fb35...</td>\n",
              "      <td>8d23a6e37e0a6431a8f1b43a91026dcff51170a89a6512...</td>\n",
              "      <td>NaN</td>\n",
              "      <td>1d2b34d8add02a182a4129023766ca4585a8ddced0e5b3...</td>\n",
              "    </tr>\n",
              "    <tr>\n",
              "      <th>4</th>\n",
              "      <td>4</td>\n",
              "      <td>1deba9e96f404694373de9749ddd1ca8aa7bb823145a6f...</td>\n",
              "      <td>LOST</td>\n",
              "      <td>Junk lead</td>\n",
              "      <td>NaN</td>\n",
              "      <td>NaN</td>\n",
              "      <td>9b2d5b4678781e53038e91ea5324530a03f27dc1d0e5f6...</td>\n",
              "      <td>9b2d5b4678781e53038e91ea5324530a03f27dc1d0e5f6...</td>\n",
              "      <td>9b2d5b4678781e53038e91ea5324530a03f27dc1d0e5f6...</td>\n",
              "      <td>3d59f7548e1af2151b64135003ce63c0a484c26b9b8b16...</td>\n",
              "      <td>268ad70eb5bc4737a2ae28162cbca30118cc94520e49ef...</td>\n",
              "      <td>9b2d5b4678781e53038e91ea5324530a03f27dc1d0e5f6...</td>\n",
              "      <td>9b2d5b4678781e53038e91ea5324530a03f27dc1d0e5f6...</td>\n",
              "      <td>NaN</td>\n",
              "      <td>fc10fffd29cfbe93c55158fb47752a7501c211d253468c...</td>\n",
              "    </tr>\n",
              "  </tbody>\n",
              "</table>\n",
              "</div>\n",
              "      <button class=\"colab-df-convert\" onclick=\"convertToInteractive('df-6c177c5a-febd-42e1-ab3e-a56d198a03cd')\"\n",
              "              title=\"Convert this dataframe to an interactive table.\"\n",
              "              style=\"display:none;\">\n",
              "        \n",
              "  <svg xmlns=\"http://www.w3.org/2000/svg\" height=\"24px\"viewBox=\"0 0 24 24\"\n",
              "       width=\"24px\">\n",
              "    <path d=\"M0 0h24v24H0V0z\" fill=\"none\"/>\n",
              "    <path d=\"M18.56 5.44l.94 2.06.94-2.06 2.06-.94-2.06-.94-.94-2.06-.94 2.06-2.06.94zm-11 1L8.5 8.5l.94-2.06 2.06-.94-2.06-.94L8.5 2.5l-.94 2.06-2.06.94zm10 10l.94 2.06.94-2.06 2.06-.94-2.06-.94-.94-2.06-.94 2.06-2.06.94z\"/><path d=\"M17.41 7.96l-1.37-1.37c-.4-.4-.92-.59-1.43-.59-.52 0-1.04.2-1.43.59L10.3 9.45l-7.72 7.72c-.78.78-.78 2.05 0 2.83L4 21.41c.39.39.9.59 1.41.59.51 0 1.02-.2 1.41-.59l7.78-7.78 2.81-2.81c.8-.78.8-2.07 0-2.86zM5.41 20L4 18.59l7.72-7.72 1.47 1.35L5.41 20z\"/>\n",
              "  </svg>\n",
              "      </button>\n",
              "      \n",
              "  <style>\n",
              "    .colab-df-container {\n",
              "      display:flex;\n",
              "      flex-wrap:wrap;\n",
              "      gap: 12px;\n",
              "    }\n",
              "\n",
              "    .colab-df-convert {\n",
              "      background-color: #E8F0FE;\n",
              "      border: none;\n",
              "      border-radius: 50%;\n",
              "      cursor: pointer;\n",
              "      display: none;\n",
              "      fill: #1967D2;\n",
              "      height: 32px;\n",
              "      padding: 0 0 0 0;\n",
              "      width: 32px;\n",
              "    }\n",
              "\n",
              "    .colab-df-convert:hover {\n",
              "      background-color: #E2EBFA;\n",
              "      box-shadow: 0px 1px 2px rgba(60, 64, 67, 0.3), 0px 1px 3px 1px rgba(60, 64, 67, 0.15);\n",
              "      fill: #174EA6;\n",
              "    }\n",
              "\n",
              "    [theme=dark] .colab-df-convert {\n",
              "      background-color: #3B4455;\n",
              "      fill: #D2E3FC;\n",
              "    }\n",
              "\n",
              "    [theme=dark] .colab-df-convert:hover {\n",
              "      background-color: #434B5C;\n",
              "      box-shadow: 0px 1px 3px 1px rgba(0, 0, 0, 0.15);\n",
              "      filter: drop-shadow(0px 1px 2px rgba(0, 0, 0, 0.3));\n",
              "      fill: #FFFFFF;\n",
              "    }\n",
              "  </style>\n",
              "\n",
              "      <script>\n",
              "        const buttonEl =\n",
              "          document.querySelector('#df-6c177c5a-febd-42e1-ab3e-a56d198a03cd button.colab-df-convert');\n",
              "        buttonEl.style.display =\n",
              "          google.colab.kernel.accessAllowed ? 'block' : 'none';\n",
              "\n",
              "        async function convertToInteractive(key) {\n",
              "          const element = document.querySelector('#df-6c177c5a-febd-42e1-ab3e-a56d198a03cd');\n",
              "          const dataTable =\n",
              "            await google.colab.kernel.invokeFunction('convertToInteractive',\n",
              "                                                     [key], {});\n",
              "          if (!dataTable) return;\n",
              "\n",
              "          const docLinkHtml = 'Like what you see? Visit the ' +\n",
              "            '<a target=\"_blank\" href=https://colab.research.google.com/notebooks/data_table.ipynb>data table notebook</a>'\n",
              "            + ' to learn more about interactive tables.';\n",
              "          element.innerHTML = '';\n",
              "          dataTable['output_type'] = 'display_data';\n",
              "          await google.colab.output.renderOutput(dataTable, element);\n",
              "          const docLink = document.createElement('div');\n",
              "          docLink.innerHTML = docLinkHtml;\n",
              "          element.appendChild(docLink);\n",
              "        }\n",
              "      </script>\n",
              "    </div>\n",
              "  </div>\n",
              "  "
            ]
          },
          "metadata": {},
          "execution_count": 4
        }
      ]
    },
    {
      "cell_type": "code",
      "source": [
        "df.shape"
      ],
      "metadata": {
        "colab": {
          "base_uri": "https://localhost:8080/"
        },
        "id": "dg8Mfm7cJB1x",
        "outputId": "3820e5d3-200d-4a31-a823-439f261efe38"
      },
      "execution_count": 5,
      "outputs": [
        {
          "output_type": "execute_result",
          "data": {
            "text/plain": [
              "(46608, 15)"
            ]
          },
          "metadata": {},
          "execution_count": 5
        }
      ]
    },
    {
      "cell_type": "code",
      "source": [
        "df.columns"
      ],
      "metadata": {
        "colab": {
          "base_uri": "https://localhost:8080/"
        },
        "id": "IJnRmIFbJF0A",
        "outputId": "f1abcf79-5ea8-4d0a-b043-503a8bc4931a"
      },
      "execution_count": 6,
      "outputs": [
        {
          "output_type": "execute_result",
          "data": {
            "text/plain": [
              "Index(['Unnamed: 0', 'Agent_id', 'status', 'lost_reason', 'budget', 'duration',\n",
              "       'source', 'source_city', 'source_country', 'utm_source', 'utm_medium',\n",
              "       'des_city', 'des_country', 'room_type', 'lead_id'],\n",
              "      dtype='object')"
            ]
          },
          "metadata": {},
          "execution_count": 6
        }
      ]
    },
    {
      "cell_type": "code",
      "source": [
        "drop_cols = ['Unnamed: 0','Agent_id','lead_id']\n",
        "df = df.drop(drop_cols,axis=1)"
      ],
      "metadata": {
        "id": "r149ayOiJKa5"
      },
      "execution_count": 7,
      "outputs": []
    },
    {
      "cell_type": "code",
      "source": [
        "df_won = df[df['status'] == 'WON']\n",
        "df_lost = df[df['status'] == 'LOST']"
      ],
      "metadata": {
        "id": "SlF8C5yyJWT6"
      },
      "execution_count": 8,
      "outputs": []
    },
    {
      "cell_type": "code",
      "source": [
        "df_wl = pd.concat([df_won,df_lost])\n",
        "df_wl.head()"
      ],
      "metadata": {
        "colab": {
          "base_uri": "https://localhost:8080/",
          "height": 495
        },
        "id": "GiRFy-J1JipU",
        "outputId": "3ecb8071-299e-4fab-a268-1c7b2b242c03"
      },
      "execution_count": 9,
      "outputs": [
        {
          "output_type": "execute_result",
          "data": {
            "text/plain": [
              "    status lost_reason                budget  \\\n",
              "98     WON         NaN                   109   \n",
              "111    WON         NaN  £121 - £180 Per Week   \n",
              "139    WON         NaN  £181 - £240 Per Week   \n",
              "141    WON         NaN       > 300£ Per Week   \n",
              "152    WON         NaN  £121 - £180 Per Week   \n",
              "\n",
              "                                       duration  \\\n",
              "98                                           51   \n",
              "111         Full Year Course Stay 40 - 44 weeks   \n",
              "139         Full Year Course Stay 40 - 44 weeks   \n",
              "141  Complete Education Year Stay 50 - 52 weeks   \n",
              "152         Full Year Course Stay 40 - 44 weeks   \n",
              "\n",
              "                                                source  \\\n",
              "98   9ba9134a91cfc6b52ac8d480e9ad37896ca4ac216e2d79...   \n",
              "111  7aae3e886e89fc1187a5c47d6cea1c22998ee610ade1f2...   \n",
              "139  7aae3e886e89fc1187a5c47d6cea1c22998ee610ade1f2...   \n",
              "141  7aae3e886e89fc1187a5c47d6cea1c22998ee610ade1f2...   \n",
              "152  7aae3e886e89fc1187a5c47d6cea1c22998ee610ade1f2...   \n",
              "\n",
              "                                           source_city  \\\n",
              "98   8593b9db65212160979d946950601c26622a219c80f1f1...   \n",
              "111  ef6d625bd287131ad98e4ed57295037bb46e4864f9d6ef...   \n",
              "139  ecc0e7dc084f141b29479058967d0bc07dee25d9690a98...   \n",
              "141  3c1def48af45cb9748302f34e57f2cbeb866de95beb0d2...   \n",
              "152  69f0114003f8a8ec5f99506325f8ca6a5ca237c9fe91ba...   \n",
              "\n",
              "                                        source_country  \\\n",
              "98   e09e10e67812e9d236ad900e5d46b4308fc62f5d69446a...   \n",
              "111  e09e10e67812e9d236ad900e5d46b4308fc62f5d69446a...   \n",
              "139  e09e10e67812e9d236ad900e5d46b4308fc62f5d69446a...   \n",
              "141  e09e10e67812e9d236ad900e5d46b4308fc62f5d69446a...   \n",
              "152  e09e10e67812e9d236ad900e5d46b4308fc62f5d69446a...   \n",
              "\n",
              "                                            utm_source  \\\n",
              "98   bbdefa2950f49882f295b1285d4fa9dec45fc4144bfb07...   \n",
              "111  bbdefa2950f49882f295b1285d4fa9dec45fc4144bfb07...   \n",
              "139  bbdefa2950f49882f295b1285d4fa9dec45fc4144bfb07...   \n",
              "141  bbdefa2950f49882f295b1285d4fa9dec45fc4144bfb07...   \n",
              "152  bbdefa2950f49882f295b1285d4fa9dec45fc4144bfb07...   \n",
              "\n",
              "                                            utm_medium  \\\n",
              "98   09076eb7665d1fb9389c7c4517fee0b00e43092eb34821...   \n",
              "111  09076eb7665d1fb9389c7c4517fee0b00e43092eb34821...   \n",
              "139  09076eb7665d1fb9389c7c4517fee0b00e43092eb34821...   \n",
              "141  09076eb7665d1fb9389c7c4517fee0b00e43092eb34821...   \n",
              "152  09076eb7665d1fb9389c7c4517fee0b00e43092eb34821...   \n",
              "\n",
              "                                              des_city  \\\n",
              "98   acb208d3ac02ab6d5a45120b4187f12bc41a132011fe1c...   \n",
              "111  71b89d8b802ddcc0120ec5352d9c0fe5bde35a3aff101b...   \n",
              "139  acb208d3ac02ab6d5a45120b4187f12bc41a132011fe1c...   \n",
              "141  8593b9db65212160979d946950601c26622a219c80f1f1...   \n",
              "152  11ab03a1a8c367191355c152f39fe28cae5e426fce49ef...   \n",
              "\n",
              "                                           des_country     room_type  \n",
              "98   8d23a6e37e0a6431a8f1b43a91026dcff51170a89a6512...           NaN  \n",
              "111  8d23a6e37e0a6431a8f1b43a91026dcff51170a89a6512...        Studio  \n",
              "139  8d23a6e37e0a6431a8f1b43a91026dcff51170a89a6512...  Entire Place  \n",
              "141  8d23a6e37e0a6431a8f1b43a91026dcff51170a89a6512...       Ensuite  \n",
              "152  8d23a6e37e0a6431a8f1b43a91026dcff51170a89a6512...  Entire Place  "
            ],
            "text/html": [
              "\n",
              "  <div id=\"df-09f4dfa9-91b0-4ea4-adde-90a75c0dcdc4\">\n",
              "    <div class=\"colab-df-container\">\n",
              "      <div>\n",
              "<style scoped>\n",
              "    .dataframe tbody tr th:only-of-type {\n",
              "        vertical-align: middle;\n",
              "    }\n",
              "\n",
              "    .dataframe tbody tr th {\n",
              "        vertical-align: top;\n",
              "    }\n",
              "\n",
              "    .dataframe thead th {\n",
              "        text-align: right;\n",
              "    }\n",
              "</style>\n",
              "<table border=\"1\" class=\"dataframe\">\n",
              "  <thead>\n",
              "    <tr style=\"text-align: right;\">\n",
              "      <th></th>\n",
              "      <th>status</th>\n",
              "      <th>lost_reason</th>\n",
              "      <th>budget</th>\n",
              "      <th>duration</th>\n",
              "      <th>source</th>\n",
              "      <th>source_city</th>\n",
              "      <th>source_country</th>\n",
              "      <th>utm_source</th>\n",
              "      <th>utm_medium</th>\n",
              "      <th>des_city</th>\n",
              "      <th>des_country</th>\n",
              "      <th>room_type</th>\n",
              "    </tr>\n",
              "  </thead>\n",
              "  <tbody>\n",
              "    <tr>\n",
              "      <th>98</th>\n",
              "      <td>WON</td>\n",
              "      <td>NaN</td>\n",
              "      <td>109</td>\n",
              "      <td>51</td>\n",
              "      <td>9ba9134a91cfc6b52ac8d480e9ad37896ca4ac216e2d79...</td>\n",
              "      <td>8593b9db65212160979d946950601c26622a219c80f1f1...</td>\n",
              "      <td>e09e10e67812e9d236ad900e5d46b4308fc62f5d69446a...</td>\n",
              "      <td>bbdefa2950f49882f295b1285d4fa9dec45fc4144bfb07...</td>\n",
              "      <td>09076eb7665d1fb9389c7c4517fee0b00e43092eb34821...</td>\n",
              "      <td>acb208d3ac02ab6d5a45120b4187f12bc41a132011fe1c...</td>\n",
              "      <td>8d23a6e37e0a6431a8f1b43a91026dcff51170a89a6512...</td>\n",
              "      <td>NaN</td>\n",
              "    </tr>\n",
              "    <tr>\n",
              "      <th>111</th>\n",
              "      <td>WON</td>\n",
              "      <td>NaN</td>\n",
              "      <td>£121 - £180 Per Week</td>\n",
              "      <td>Full Year Course Stay 40 - 44 weeks</td>\n",
              "      <td>7aae3e886e89fc1187a5c47d6cea1c22998ee610ade1f2...</td>\n",
              "      <td>ef6d625bd287131ad98e4ed57295037bb46e4864f9d6ef...</td>\n",
              "      <td>e09e10e67812e9d236ad900e5d46b4308fc62f5d69446a...</td>\n",
              "      <td>bbdefa2950f49882f295b1285d4fa9dec45fc4144bfb07...</td>\n",
              "      <td>09076eb7665d1fb9389c7c4517fee0b00e43092eb34821...</td>\n",
              "      <td>71b89d8b802ddcc0120ec5352d9c0fe5bde35a3aff101b...</td>\n",
              "      <td>8d23a6e37e0a6431a8f1b43a91026dcff51170a89a6512...</td>\n",
              "      <td>Studio</td>\n",
              "    </tr>\n",
              "    <tr>\n",
              "      <th>139</th>\n",
              "      <td>WON</td>\n",
              "      <td>NaN</td>\n",
              "      <td>£181 - £240 Per Week</td>\n",
              "      <td>Full Year Course Stay 40 - 44 weeks</td>\n",
              "      <td>7aae3e886e89fc1187a5c47d6cea1c22998ee610ade1f2...</td>\n",
              "      <td>ecc0e7dc084f141b29479058967d0bc07dee25d9690a98...</td>\n",
              "      <td>e09e10e67812e9d236ad900e5d46b4308fc62f5d69446a...</td>\n",
              "      <td>bbdefa2950f49882f295b1285d4fa9dec45fc4144bfb07...</td>\n",
              "      <td>09076eb7665d1fb9389c7c4517fee0b00e43092eb34821...</td>\n",
              "      <td>acb208d3ac02ab6d5a45120b4187f12bc41a132011fe1c...</td>\n",
              "      <td>8d23a6e37e0a6431a8f1b43a91026dcff51170a89a6512...</td>\n",
              "      <td>Entire Place</td>\n",
              "    </tr>\n",
              "    <tr>\n",
              "      <th>141</th>\n",
              "      <td>WON</td>\n",
              "      <td>NaN</td>\n",
              "      <td>&gt; 300£ Per Week</td>\n",
              "      <td>Complete Education Year Stay 50 - 52 weeks</td>\n",
              "      <td>7aae3e886e89fc1187a5c47d6cea1c22998ee610ade1f2...</td>\n",
              "      <td>3c1def48af45cb9748302f34e57f2cbeb866de95beb0d2...</td>\n",
              "      <td>e09e10e67812e9d236ad900e5d46b4308fc62f5d69446a...</td>\n",
              "      <td>bbdefa2950f49882f295b1285d4fa9dec45fc4144bfb07...</td>\n",
              "      <td>09076eb7665d1fb9389c7c4517fee0b00e43092eb34821...</td>\n",
              "      <td>8593b9db65212160979d946950601c26622a219c80f1f1...</td>\n",
              "      <td>8d23a6e37e0a6431a8f1b43a91026dcff51170a89a6512...</td>\n",
              "      <td>Ensuite</td>\n",
              "    </tr>\n",
              "    <tr>\n",
              "      <th>152</th>\n",
              "      <td>WON</td>\n",
              "      <td>NaN</td>\n",
              "      <td>£121 - £180 Per Week</td>\n",
              "      <td>Full Year Course Stay 40 - 44 weeks</td>\n",
              "      <td>7aae3e886e89fc1187a5c47d6cea1c22998ee610ade1f2...</td>\n",
              "      <td>69f0114003f8a8ec5f99506325f8ca6a5ca237c9fe91ba...</td>\n",
              "      <td>e09e10e67812e9d236ad900e5d46b4308fc62f5d69446a...</td>\n",
              "      <td>bbdefa2950f49882f295b1285d4fa9dec45fc4144bfb07...</td>\n",
              "      <td>09076eb7665d1fb9389c7c4517fee0b00e43092eb34821...</td>\n",
              "      <td>11ab03a1a8c367191355c152f39fe28cae5e426fce49ef...</td>\n",
              "      <td>8d23a6e37e0a6431a8f1b43a91026dcff51170a89a6512...</td>\n",
              "      <td>Entire Place</td>\n",
              "    </tr>\n",
              "  </tbody>\n",
              "</table>\n",
              "</div>\n",
              "      <button class=\"colab-df-convert\" onclick=\"convertToInteractive('df-09f4dfa9-91b0-4ea4-adde-90a75c0dcdc4')\"\n",
              "              title=\"Convert this dataframe to an interactive table.\"\n",
              "              style=\"display:none;\">\n",
              "        \n",
              "  <svg xmlns=\"http://www.w3.org/2000/svg\" height=\"24px\"viewBox=\"0 0 24 24\"\n",
              "       width=\"24px\">\n",
              "    <path d=\"M0 0h24v24H0V0z\" fill=\"none\"/>\n",
              "    <path d=\"M18.56 5.44l.94 2.06.94-2.06 2.06-.94-2.06-.94-.94-2.06-.94 2.06-2.06.94zm-11 1L8.5 8.5l.94-2.06 2.06-.94-2.06-.94L8.5 2.5l-.94 2.06-2.06.94zm10 10l.94 2.06.94-2.06 2.06-.94-2.06-.94-.94-2.06-.94 2.06-2.06.94z\"/><path d=\"M17.41 7.96l-1.37-1.37c-.4-.4-.92-.59-1.43-.59-.52 0-1.04.2-1.43.59L10.3 9.45l-7.72 7.72c-.78.78-.78 2.05 0 2.83L4 21.41c.39.39.9.59 1.41.59.51 0 1.02-.2 1.41-.59l7.78-7.78 2.81-2.81c.8-.78.8-2.07 0-2.86zM5.41 20L4 18.59l7.72-7.72 1.47 1.35L5.41 20z\"/>\n",
              "  </svg>\n",
              "      </button>\n",
              "      \n",
              "  <style>\n",
              "    .colab-df-container {\n",
              "      display:flex;\n",
              "      flex-wrap:wrap;\n",
              "      gap: 12px;\n",
              "    }\n",
              "\n",
              "    .colab-df-convert {\n",
              "      background-color: #E8F0FE;\n",
              "      border: none;\n",
              "      border-radius: 50%;\n",
              "      cursor: pointer;\n",
              "      display: none;\n",
              "      fill: #1967D2;\n",
              "      height: 32px;\n",
              "      padding: 0 0 0 0;\n",
              "      width: 32px;\n",
              "    }\n",
              "\n",
              "    .colab-df-convert:hover {\n",
              "      background-color: #E2EBFA;\n",
              "      box-shadow: 0px 1px 2px rgba(60, 64, 67, 0.3), 0px 1px 3px 1px rgba(60, 64, 67, 0.15);\n",
              "      fill: #174EA6;\n",
              "    }\n",
              "\n",
              "    [theme=dark] .colab-df-convert {\n",
              "      background-color: #3B4455;\n",
              "      fill: #D2E3FC;\n",
              "    }\n",
              "\n",
              "    [theme=dark] .colab-df-convert:hover {\n",
              "      background-color: #434B5C;\n",
              "      box-shadow: 0px 1px 3px 1px rgba(0, 0, 0, 0.15);\n",
              "      filter: drop-shadow(0px 1px 2px rgba(0, 0, 0, 0.3));\n",
              "      fill: #FFFFFF;\n",
              "    }\n",
              "  </style>\n",
              "\n",
              "      <script>\n",
              "        const buttonEl =\n",
              "          document.querySelector('#df-09f4dfa9-91b0-4ea4-adde-90a75c0dcdc4 button.colab-df-convert');\n",
              "        buttonEl.style.display =\n",
              "          google.colab.kernel.accessAllowed ? 'block' : 'none';\n",
              "\n",
              "        async function convertToInteractive(key) {\n",
              "          const element = document.querySelector('#df-09f4dfa9-91b0-4ea4-adde-90a75c0dcdc4');\n",
              "          const dataTable =\n",
              "            await google.colab.kernel.invokeFunction('convertToInteractive',\n",
              "                                                     [key], {});\n",
              "          if (!dataTable) return;\n",
              "\n",
              "          const docLinkHtml = 'Like what you see? Visit the ' +\n",
              "            '<a target=\"_blank\" href=https://colab.research.google.com/notebooks/data_table.ipynb>data table notebook</a>'\n",
              "            + ' to learn more about interactive tables.';\n",
              "          element.innerHTML = '';\n",
              "          dataTable['output_type'] = 'display_data';\n",
              "          await google.colab.output.renderOutput(dataTable, element);\n",
              "          const docLink = document.createElement('div');\n",
              "          docLink.innerHTML = docLinkHtml;\n",
              "          element.appendChild(docLink);\n",
              "        }\n",
              "      </script>\n",
              "    </div>\n",
              "  </div>\n",
              "  "
            ]
          },
          "metadata": {},
          "execution_count": 9
        }
      ]
    },
    {
      "cell_type": "code",
      "source": [
        "df = df_wl.copy()\n",
        "df = df.sample(frac=1).reset_index(drop=True)"
      ],
      "metadata": {
        "id": "oLEHb0UfKGAu"
      },
      "execution_count": 10,
      "outputs": []
    },
    {
      "cell_type": "code",
      "source": [
        "df.head()"
      ],
      "metadata": {
        "colab": {
          "base_uri": "https://localhost:8080/",
          "height": 443
        },
        "id": "oUz8TjldKKLO",
        "outputId": "3a257a24-41e2-466f-8d04-ee6f5972da3f"
      },
      "execution_count": 11,
      "outputs": [
        {
          "output_type": "execute_result",
          "data": {
            "text/plain": [
              "  status     lost_reason                budget  \\\n",
              "0   LOST  Not responding                   NaN   \n",
              "1   LOST  Not interested  £121 - £180 Per Week   \n",
              "2    WON             NaN                   0-0   \n",
              "3   LOST  Not responding                   0-0   \n",
              "4   LOST       Junk lead  £181 - £240 Per Week   \n",
              "\n",
              "                                     duration  \\\n",
              "0                                         NaN   \n",
              "1  Complete Education Year Stay 50 - 52 weeks   \n",
              "2                                           0   \n",
              "3                            full-course-stay   \n",
              "4         Full Year Course Stay 40 - 44 weeks   \n",
              "\n",
              "                                              source  \\\n",
              "0  9b2d5b4678781e53038e91ea5324530a03f27dc1d0e5f6...   \n",
              "1  7aae3e886e89fc1187a5c47d6cea1c22998ee610ade1f2...   \n",
              "2  ba2d0a29556ac20f86f45e4543c0825428cba33fd7a9ea...   \n",
              "3  7bcfca0e9d73371699b0adbf1c691e02108fa64f02f4db...   \n",
              "4  7aae3e886e89fc1187a5c47d6cea1c22998ee610ade1f2...   \n",
              "\n",
              "                                         source_city  \\\n",
              "0  9b2d5b4678781e53038e91ea5324530a03f27dc1d0e5f6...   \n",
              "1  8593b9db65212160979d946950601c26622a219c80f1f1...   \n",
              "2  8593b9db65212160979d946950601c26622a219c80f1f1...   \n",
              "3  d30f10c54d1183500120484bb1ebd2f2e0a01cf6889ff2...   \n",
              "4  24420b62ffb824d4a51e98b68fbda4e94198c09307fb78...   \n",
              "\n",
              "                                      source_country  \\\n",
              "0  9b2d5b4678781e53038e91ea5324530a03f27dc1d0e5f6...   \n",
              "1  e09e10e67812e9d236ad900e5d46b4308fc62f5d69446a...   \n",
              "2  e09e10e67812e9d236ad900e5d46b4308fc62f5d69446a...   \n",
              "3  e09e10e67812e9d236ad900e5d46b4308fc62f5d69446a...   \n",
              "4  c2863266ba318106a050f6f52c0a0e5ee19bdbacc19c09...   \n",
              "\n",
              "                                          utm_source  \\\n",
              "0  3d59f7548e1af2151b64135003ce63c0a484c26b9b8b16...   \n",
              "1  bbdefa2950f49882f295b1285d4fa9dec45fc4144bfb07...   \n",
              "2  9ac56ef275bb33f0f931abd846e53e845a80af8a549100...   \n",
              "3  bbdefa2950f49882f295b1285d4fa9dec45fc4144bfb07...   \n",
              "4  bbdefa2950f49882f295b1285d4fa9dec45fc4144bfb07...   \n",
              "\n",
              "                                          utm_medium  \\\n",
              "0  268ad70eb5bc4737a2ae28162cbca30118cc94520e49ef...   \n",
              "1  09076eb7665d1fb9389c7c4517fee0b00e43092eb34821...   \n",
              "2  82244417f956ac7c599f191593f7e441a4fafa20a4158f...   \n",
              "3  09076eb7665d1fb9389c7c4517fee0b00e43092eb34821...   \n",
              "4  09076eb7665d1fb9389c7c4517fee0b00e43092eb34821...   \n",
              "\n",
              "                                            des_city  \\\n",
              "0  ecc0e7dc084f141b29479058967d0bc07dee25d9690a98...   \n",
              "1  11ab03a1a8c367191355c152f39fe28cae5e426fce49ef...   \n",
              "2  810c069040f6a9b16fdf976a901755508a87cb0224b169...   \n",
              "3  f4a95c80f4c35feff42a9f3830c6bfca4c0ea7bd43c648...   \n",
              "4  810c069040f6a9b16fdf976a901755508a87cb0224b169...   \n",
              "\n",
              "                                         des_country room_type  \n",
              "0  8d23a6e37e0a6431a8f1b43a91026dcff51170a89a6512...       NaN  \n",
              "1  8d23a6e37e0a6431a8f1b43a91026dcff51170a89a6512...   Ensuite  \n",
              "2  8d23a6e37e0a6431a8f1b43a91026dcff51170a89a6512...       NaN  \n",
              "3  8d23a6e37e0a6431a8f1b43a91026dcff51170a89a6512...       NaN  \n",
              "4  8d23a6e37e0a6431a8f1b43a91026dcff51170a89a6512...    Studio  "
            ],
            "text/html": [
              "\n",
              "  <div id=\"df-9b01e404-2fbe-4ed5-a77c-d10510268dad\">\n",
              "    <div class=\"colab-df-container\">\n",
              "      <div>\n",
              "<style scoped>\n",
              "    .dataframe tbody tr th:only-of-type {\n",
              "        vertical-align: middle;\n",
              "    }\n",
              "\n",
              "    .dataframe tbody tr th {\n",
              "        vertical-align: top;\n",
              "    }\n",
              "\n",
              "    .dataframe thead th {\n",
              "        text-align: right;\n",
              "    }\n",
              "</style>\n",
              "<table border=\"1\" class=\"dataframe\">\n",
              "  <thead>\n",
              "    <tr style=\"text-align: right;\">\n",
              "      <th></th>\n",
              "      <th>status</th>\n",
              "      <th>lost_reason</th>\n",
              "      <th>budget</th>\n",
              "      <th>duration</th>\n",
              "      <th>source</th>\n",
              "      <th>source_city</th>\n",
              "      <th>source_country</th>\n",
              "      <th>utm_source</th>\n",
              "      <th>utm_medium</th>\n",
              "      <th>des_city</th>\n",
              "      <th>des_country</th>\n",
              "      <th>room_type</th>\n",
              "    </tr>\n",
              "  </thead>\n",
              "  <tbody>\n",
              "    <tr>\n",
              "      <th>0</th>\n",
              "      <td>LOST</td>\n",
              "      <td>Not responding</td>\n",
              "      <td>NaN</td>\n",
              "      <td>NaN</td>\n",
              "      <td>9b2d5b4678781e53038e91ea5324530a03f27dc1d0e5f6...</td>\n",
              "      <td>9b2d5b4678781e53038e91ea5324530a03f27dc1d0e5f6...</td>\n",
              "      <td>9b2d5b4678781e53038e91ea5324530a03f27dc1d0e5f6...</td>\n",
              "      <td>3d59f7548e1af2151b64135003ce63c0a484c26b9b8b16...</td>\n",
              "      <td>268ad70eb5bc4737a2ae28162cbca30118cc94520e49ef...</td>\n",
              "      <td>ecc0e7dc084f141b29479058967d0bc07dee25d9690a98...</td>\n",
              "      <td>8d23a6e37e0a6431a8f1b43a91026dcff51170a89a6512...</td>\n",
              "      <td>NaN</td>\n",
              "    </tr>\n",
              "    <tr>\n",
              "      <th>1</th>\n",
              "      <td>LOST</td>\n",
              "      <td>Not interested</td>\n",
              "      <td>£121 - £180 Per Week</td>\n",
              "      <td>Complete Education Year Stay 50 - 52 weeks</td>\n",
              "      <td>7aae3e886e89fc1187a5c47d6cea1c22998ee610ade1f2...</td>\n",
              "      <td>8593b9db65212160979d946950601c26622a219c80f1f1...</td>\n",
              "      <td>e09e10e67812e9d236ad900e5d46b4308fc62f5d69446a...</td>\n",
              "      <td>bbdefa2950f49882f295b1285d4fa9dec45fc4144bfb07...</td>\n",
              "      <td>09076eb7665d1fb9389c7c4517fee0b00e43092eb34821...</td>\n",
              "      <td>11ab03a1a8c367191355c152f39fe28cae5e426fce49ef...</td>\n",
              "      <td>8d23a6e37e0a6431a8f1b43a91026dcff51170a89a6512...</td>\n",
              "      <td>Ensuite</td>\n",
              "    </tr>\n",
              "    <tr>\n",
              "      <th>2</th>\n",
              "      <td>WON</td>\n",
              "      <td>NaN</td>\n",
              "      <td>0-0</td>\n",
              "      <td>0</td>\n",
              "      <td>ba2d0a29556ac20f86f45e4543c0825428cba33fd7a9ea...</td>\n",
              "      <td>8593b9db65212160979d946950601c26622a219c80f1f1...</td>\n",
              "      <td>e09e10e67812e9d236ad900e5d46b4308fc62f5d69446a...</td>\n",
              "      <td>9ac56ef275bb33f0f931abd846e53e845a80af8a549100...</td>\n",
              "      <td>82244417f956ac7c599f191593f7e441a4fafa20a4158f...</td>\n",
              "      <td>810c069040f6a9b16fdf976a901755508a87cb0224b169...</td>\n",
              "      <td>8d23a6e37e0a6431a8f1b43a91026dcff51170a89a6512...</td>\n",
              "      <td>NaN</td>\n",
              "    </tr>\n",
              "    <tr>\n",
              "      <th>3</th>\n",
              "      <td>LOST</td>\n",
              "      <td>Not responding</td>\n",
              "      <td>0-0</td>\n",
              "      <td>full-course-stay</td>\n",
              "      <td>7bcfca0e9d73371699b0adbf1c691e02108fa64f02f4db...</td>\n",
              "      <td>d30f10c54d1183500120484bb1ebd2f2e0a01cf6889ff2...</td>\n",
              "      <td>e09e10e67812e9d236ad900e5d46b4308fc62f5d69446a...</td>\n",
              "      <td>bbdefa2950f49882f295b1285d4fa9dec45fc4144bfb07...</td>\n",
              "      <td>09076eb7665d1fb9389c7c4517fee0b00e43092eb34821...</td>\n",
              "      <td>f4a95c80f4c35feff42a9f3830c6bfca4c0ea7bd43c648...</td>\n",
              "      <td>8d23a6e37e0a6431a8f1b43a91026dcff51170a89a6512...</td>\n",
              "      <td>NaN</td>\n",
              "    </tr>\n",
              "    <tr>\n",
              "      <th>4</th>\n",
              "      <td>LOST</td>\n",
              "      <td>Junk lead</td>\n",
              "      <td>£181 - £240 Per Week</td>\n",
              "      <td>Full Year Course Stay 40 - 44 weeks</td>\n",
              "      <td>7aae3e886e89fc1187a5c47d6cea1c22998ee610ade1f2...</td>\n",
              "      <td>24420b62ffb824d4a51e98b68fbda4e94198c09307fb78...</td>\n",
              "      <td>c2863266ba318106a050f6f52c0a0e5ee19bdbacc19c09...</td>\n",
              "      <td>bbdefa2950f49882f295b1285d4fa9dec45fc4144bfb07...</td>\n",
              "      <td>09076eb7665d1fb9389c7c4517fee0b00e43092eb34821...</td>\n",
              "      <td>810c069040f6a9b16fdf976a901755508a87cb0224b169...</td>\n",
              "      <td>8d23a6e37e0a6431a8f1b43a91026dcff51170a89a6512...</td>\n",
              "      <td>Studio</td>\n",
              "    </tr>\n",
              "  </tbody>\n",
              "</table>\n",
              "</div>\n",
              "      <button class=\"colab-df-convert\" onclick=\"convertToInteractive('df-9b01e404-2fbe-4ed5-a77c-d10510268dad')\"\n",
              "              title=\"Convert this dataframe to an interactive table.\"\n",
              "              style=\"display:none;\">\n",
              "        \n",
              "  <svg xmlns=\"http://www.w3.org/2000/svg\" height=\"24px\"viewBox=\"0 0 24 24\"\n",
              "       width=\"24px\">\n",
              "    <path d=\"M0 0h24v24H0V0z\" fill=\"none\"/>\n",
              "    <path d=\"M18.56 5.44l.94 2.06.94-2.06 2.06-.94-2.06-.94-.94-2.06-.94 2.06-2.06.94zm-11 1L8.5 8.5l.94-2.06 2.06-.94-2.06-.94L8.5 2.5l-.94 2.06-2.06.94zm10 10l.94 2.06.94-2.06 2.06-.94-2.06-.94-.94-2.06-.94 2.06-2.06.94z\"/><path d=\"M17.41 7.96l-1.37-1.37c-.4-.4-.92-.59-1.43-.59-.52 0-1.04.2-1.43.59L10.3 9.45l-7.72 7.72c-.78.78-.78 2.05 0 2.83L4 21.41c.39.39.9.59 1.41.59.51 0 1.02-.2 1.41-.59l7.78-7.78 2.81-2.81c.8-.78.8-2.07 0-2.86zM5.41 20L4 18.59l7.72-7.72 1.47 1.35L5.41 20z\"/>\n",
              "  </svg>\n",
              "      </button>\n",
              "      \n",
              "  <style>\n",
              "    .colab-df-container {\n",
              "      display:flex;\n",
              "      flex-wrap:wrap;\n",
              "      gap: 12px;\n",
              "    }\n",
              "\n",
              "    .colab-df-convert {\n",
              "      background-color: #E8F0FE;\n",
              "      border: none;\n",
              "      border-radius: 50%;\n",
              "      cursor: pointer;\n",
              "      display: none;\n",
              "      fill: #1967D2;\n",
              "      height: 32px;\n",
              "      padding: 0 0 0 0;\n",
              "      width: 32px;\n",
              "    }\n",
              "\n",
              "    .colab-df-convert:hover {\n",
              "      background-color: #E2EBFA;\n",
              "      box-shadow: 0px 1px 2px rgba(60, 64, 67, 0.3), 0px 1px 3px 1px rgba(60, 64, 67, 0.15);\n",
              "      fill: #174EA6;\n",
              "    }\n",
              "\n",
              "    [theme=dark] .colab-df-convert {\n",
              "      background-color: #3B4455;\n",
              "      fill: #D2E3FC;\n",
              "    }\n",
              "\n",
              "    [theme=dark] .colab-df-convert:hover {\n",
              "      background-color: #434B5C;\n",
              "      box-shadow: 0px 1px 3px 1px rgba(0, 0, 0, 0.15);\n",
              "      filter: drop-shadow(0px 1px 2px rgba(0, 0, 0, 0.3));\n",
              "      fill: #FFFFFF;\n",
              "    }\n",
              "  </style>\n",
              "\n",
              "      <script>\n",
              "        const buttonEl =\n",
              "          document.querySelector('#df-9b01e404-2fbe-4ed5-a77c-d10510268dad button.colab-df-convert');\n",
              "        buttonEl.style.display =\n",
              "          google.colab.kernel.accessAllowed ? 'block' : 'none';\n",
              "\n",
              "        async function convertToInteractive(key) {\n",
              "          const element = document.querySelector('#df-9b01e404-2fbe-4ed5-a77c-d10510268dad');\n",
              "          const dataTable =\n",
              "            await google.colab.kernel.invokeFunction('convertToInteractive',\n",
              "                                                     [key], {});\n",
              "          if (!dataTable) return;\n",
              "\n",
              "          const docLinkHtml = 'Like what you see? Visit the ' +\n",
              "            '<a target=\"_blank\" href=https://colab.research.google.com/notebooks/data_table.ipynb>data table notebook</a>'\n",
              "            + ' to learn more about interactive tables.';\n",
              "          element.innerHTML = '';\n",
              "          dataTable['output_type'] = 'display_data';\n",
              "          await google.colab.output.renderOutput(dataTable, element);\n",
              "          const docLink = document.createElement('div');\n",
              "          docLink.innerHTML = docLinkHtml;\n",
              "          element.appendChild(docLink);\n",
              "        }\n",
              "      </script>\n",
              "    </div>\n",
              "  </div>\n",
              "  "
            ]
          },
          "metadata": {},
          "execution_count": 11
        }
      ]
    },
    {
      "cell_type": "code",
      "source": [
        "df.columns"
      ],
      "metadata": {
        "colab": {
          "base_uri": "https://localhost:8080/"
        },
        "id": "Sj01Mzu4KMQI",
        "outputId": "cf888439-b022-4bb9-8782-419624060128"
      },
      "execution_count": 12,
      "outputs": [
        {
          "output_type": "execute_result",
          "data": {
            "text/plain": [
              "Index(['status', 'lost_reason', 'budget', 'duration', 'source', 'source_city',\n",
              "       'source_country', 'utm_source', 'utm_medium', 'des_city', 'des_country',\n",
              "       'room_type'],\n",
              "      dtype='object')"
            ]
          },
          "metadata": {},
          "execution_count": 12
        }
      ]
    },
    {
      "cell_type": "code",
      "source": [
        "df.isna().sum()"
      ],
      "metadata": {
        "colab": {
          "base_uri": "https://localhost:8080/"
        },
        "id": "AAqQLHcBK54x",
        "outputId": "4bc7fdf2-0897-4313-cb8c-368e96edb0db"
      },
      "execution_count": 13,
      "outputs": [
        {
          "output_type": "execute_result",
          "data": {
            "text/plain": [
              "status                0\n",
              "lost_reason        3073\n",
              "budget             3694\n",
              "duration           2336\n",
              "source                0\n",
              "source_city           0\n",
              "source_country        0\n",
              "utm_source            0\n",
              "utm_medium            0\n",
              "des_city              0\n",
              "des_country           0\n",
              "room_type         23491\n",
              "dtype: int64"
            ]
          },
          "metadata": {},
          "execution_count": 13
        }
      ]
    },
    {
      "cell_type": "code",
      "source": [
        "print(df['lost_reason'].unique())"
      ],
      "metadata": {
        "colab": {
          "base_uri": "https://localhost:8080/"
        },
        "id": "lvxa2MmnTAr8",
        "outputId": "04d4609d-8ae7-4ce0-d222-4ec327d7652f"
      },
      "execution_count": 14,
      "outputs": [
        {
          "output_type": "stream",
          "name": "stdout",
          "text": [
            "['Not responding' 'Not interested' nan 'Junk lead' 'Just Enquiring'\n",
            " 'Low availability' 'Wants private accommodation'\n",
            " 'Not serving in that region' 'Not a student' 'Low budget'\n",
            " 'Inadequate details' 'Booked with competitor'\n",
            " 'Booked on campus accommodation' 'Short stay' 'Not going to university'\n",
            " 'Semester stay' 'Lead issue' 'Repeat lead' 'No supply'\n",
            " 'Booked with manager' 'Distance issue' 'Supply issue'\n",
            " 'Looking for admission' 'Junk lead/ Just Enquiring'\n",
            " \"Didn't respond in time\" 'Looking for Scholarship'\n",
            " 'Visa/admission denied' 'Looking for loan' 'Guarantor issue'\n",
            " 'Underage student' 'Cross sell']\n"
          ]
        }
      ]
    },
    {
      "cell_type": "code",
      "source": [
        "lost_reason = {\n",
        "    'admission' : ['Cross sell','Looking for loan','Looking for Scholarship','Guarantor issue','Underage student','Visa/admission denied','Looking for admission', 'Not a student'],\n",
        "    'no_response' : ['Not responding', \"Didn't respond in time\"],\n",
        "    'junk' : ['Junk lead', 'Inadequate details', 'Just Enquiring', 'Junk lead/ Just Enquiring', 'Lead issue', 'Repeat lead'],\n",
        "    'supply' : ['No supply', 'Supply issue'],\n",
        "    'booked_na' : ['Booked with manager', 'Booked with competitor', 'Booked on campus accommodation', 'Low availability'],\n",
        "    'location' : ['Distance issue', 'Not serving in that region'],\n",
        "    'stay_accomodation' : ['Wants private accommodation', 'Short stay', 'Semester stay'],\n",
        "    'budget' : ['Low budget'],\n",
        "    'not_interested' : ['Not interested', 'Not going to university']\n",
        "}"
      ],
      "metadata": {
        "id": "MCYbtUCWTGpW"
      },
      "execution_count": 15,
      "outputs": []
    },
    {
      "cell_type": "code",
      "source": [
        "def get_reason(x):\n",
        "  for key,vals in lost_reason.items():\n",
        "    if x in vals:\n",
        "      return key\n",
        "  return 'not mentioned'"
      ],
      "metadata": {
        "id": "4pM0-3EDeUl7"
      },
      "execution_count": 16,
      "outputs": []
    },
    {
      "cell_type": "code",
      "source": [
        "code_cols = ['source','source_country','source_city','utm_source','utm_medium','des_city','des_country']\n",
        "code_cols_dict = {}\n",
        "for col in code_cols:\n",
        "  code_cols_list = []\n",
        "  i = 0\n",
        "  for a,b in df[col].value_counts().items():\n",
        "    code_cols_list.append(a)\n",
        "    i+=1\n",
        "    if i > 8:\n",
        "      break\n",
        "  code_cols_dict[col] = code_cols_list"
      ],
      "metadata": {
        "id": "gfESfu0PZ4V8"
      },
      "execution_count": 17,
      "outputs": []
    },
    {
      "cell_type": "code",
      "source": [
        "code_cols_dict"
      ],
      "metadata": {
        "colab": {
          "base_uri": "https://localhost:8080/"
        },
        "id": "2YTItdjQDLda",
        "outputId": "398bffa7-02f4-43d6-ab07-5cdb383c25b1"
      },
      "execution_count": 18,
      "outputs": [
        {
          "output_type": "execute_result",
          "data": {
            "text/plain": [
              "{'source': ['7aae3e886e89fc1187a5c47d6cea1c22998ee610ade1f2b7c51be879f0c37ca8',\n",
              "  '9b2d5b4678781e53038e91ea5324530a03f27dc1d0e5f6c9bc9d493a23be9de0',\n",
              "  '7bcfca0e9d73371699b0adbf1c691e02108fa64f02f4dbe24a0217f139a9b916',\n",
              "  'ba2d0a29556ac20f86f45e4543c0825428cba33fd7a9eaa29e3f169d2ca43b2b',\n",
              "  '146fb4ecbe78caa24102bbaac12e2559a8c8e32fb116d36e3553a709fce40549',\n",
              "  'd684761c17c11590f6e2525b48141cb2c0c6f2be5df4e229dae06e64c5c41b64',\n",
              "  '9ba9134a91cfc6b52ac8d480e9ad37896ca4ac216e2d795fdb7d75a63d6c60af',\n",
              "  '9fd09dc33545f9cc19b81ebd0b98c4fd8c66ed1e34de89f4c9a81e6b26dc0d54',\n",
              "  'b2b2a0ecb072ed25f1844a3325a810b85689bcc785ddb40dbdcd50a237e40831'],\n",
              " 'source_country': ['e09e10e67812e9d236ad900e5d46b4308fc62f5d69446a9750aa698e797e9c96',\n",
              "  '9b2d5b4678781e53038e91ea5324530a03f27dc1d0e5f6c9bc9d493a23be9de0',\n",
              "  '8da82000ef9c4468ba47362a924b895e40662fed846942a1870a674e5c6d1fc2',\n",
              "  'e39b0c5e88f19053d3a917669bc9d60729f351e064ca0c94f5dc73f4e676333f',\n",
              "  '38fe804a1f9ec032ad876bd7192c1f706e1402831e163cf72702b1f451f40cac',\n",
              "  '0207c236c5ad89235d814b1e1807f6fdc1930810439489f76600e1672338e42b',\n",
              "  'b936ee09e20b3b2234907cde349cda1c1a5327c4a486bf27cee28623bb25bb12',\n",
              "  'c2863266ba318106a050f6f52c0a0e5ee19bdbacc19c0965979ae9f2b22354c6',\n",
              "  'e28406d05650a1fab7eb01a80ef73a2e3460a214fe48601b63f93d37a65ab966'],\n",
              " 'source_city': ['9b2d5b4678781e53038e91ea5324530a03f27dc1d0e5f6c9bc9d493a23be9de0',\n",
              "  'ecc0e7dc084f141b29479058967d0bc07dee25d9690a98ee4e6fdad5168274d7',\n",
              "  'b384863fa1f6e091164b74219726eee0b9dd47776b91a4dc71fd0516630d21ec',\n",
              "  '9f2ba6981e36ea0fca6c16f42e6413d788d2a7499b8b7f418c5d76f12d191f02',\n",
              "  '7d1550b844ff586a6023216c06263105eed0a849a2a1f69bb8862ab288d8cdab',\n",
              "  '810c069040f6a9b16fdf976a901755508a87cb0224b169d4b5d803357e647947',\n",
              "  '4fa64bd55d5c0c1f83015952b4b9500cb099dd0b1b04647f1a7c3c5708295b6e',\n",
              "  '282f96b099630502f8bb5033849c69982dd147015853061ed938c2a254fd8dcf',\n",
              "  '5e02dadaa7e4cd29809e2f8a115f1e5e9c01b29813a1fb9707218804218da32a'],\n",
              " 'utm_source': ['bbdefa2950f49882f295b1285d4fa9dec45fc4144bfb07ee6acc68762d12c2e3',\n",
              "  '7f3fa48ca885678134842fa7456f3ece53a97f843b610185d900ac4e467c7490',\n",
              "  '3d59f7548e1af2151b64135003ce63c0a484c26b9b8b166a7b1c1805ec34b00a',\n",
              "  '3c77f261a156a5308fee53720276395ef78d2e7367e4225a3d3d93f4accd1dd3',\n",
              "  'd15690f08a575024650b01ffac892cfd2b93e6c57c140f1b6d9e47753cabd579',\n",
              "  '9ac56ef275bb33f0f931abd846e53e845a80af8a549100741e928b8b2abd56a7',\n",
              "  'ec8202b6f9fb16f9e26b66367afa4e037752f3c09a18cefab426165e06a424b1',\n",
              "  '4f48c17d2a97a7461a12d0d07336f808e70a1248a7082dbb103047f54090c158',\n",
              "  '44574c4ba2ea74ad4bf1e184133cdbf4e7390a3690beff6a7364511a70ec208e'],\n",
              " 'utm_medium': ['09076eb7665d1fb9389c7c4517fee0b00e43092eb34821b09b5730c41ebcc50c',\n",
              "  '9b2d5b4678781e53038e91ea5324530a03f27dc1d0e5f6c9bc9d493a23be9de0',\n",
              "  '09bc8f0bb77bdddeb98527a39e995c2c605166399c178cb296992abab8415d5b',\n",
              "  '69f81619d0ef92cbb165a44e76f4f0c284d2aa83c318fa7fb632207f68215647',\n",
              "  '268ad70eb5bc4737a2ae28162cbca30118cc94520e49ef1ac5f72c85d3f2caa9',\n",
              "  '82244417f956ac7c599f191593f7e441a4fafa20a4158fd52e154f1dc4c8ed92',\n",
              "  '2bc856d8b9bd2e94d0aacf13e9dac47f9259f8dcf56061896f28dda46081c393',\n",
              "  'abb8e2badd5b6265c3237170cc599257a4f566706715d2e8ed911caf07185447',\n",
              "  '08510d8a07a19e4b995447e77c3b1a40c6f21838ecae77448a01d98312a00b6c'],\n",
              " 'des_city': ['ecc0e7dc084f141b29479058967d0bc07dee25d9690a98ee4e6fdad5168274d7',\n",
              "  '810c069040f6a9b16fdf976a901755508a87cb0224b169d4b5d803357e647947',\n",
              "  '11ab03a1a8c367191355c152f39fe28cae5e426fce49efb320230ca4ae3f97a1',\n",
              "  '9b2d5b4678781e53038e91ea5324530a03f27dc1d0e5f6c9bc9d493a23be9de0',\n",
              "  '8593b9db65212160979d946950601c26622a219c80f1f122679eb69ec5b96600',\n",
              "  '6a5ed83658ef85afc77709cc16ede854ad98e3c2ad8b076e10dcbcd6e5096271',\n",
              "  '5e02dadaa7e4cd29809e2f8a115f1e5e9c01b29813a1fb9707218804218da32a',\n",
              "  '9b8cc3c63cdf447e463c11544924bf027945cbd29675f77955bb36364356c14e',\n",
              "  'b2586a6cef5690b74e9fb425f95f8fb3f1e18a4cdc3225eb2f53534ec3602aee'],\n",
              " 'des_country': ['8d23a6e37e0a6431a8f1b43a91026dcff51170a89a6512ff098eaa56a4d5fb19',\n",
              "  '9b2d5b4678781e53038e91ea5324530a03f27dc1d0e5f6c9bc9d493a23be9de0',\n",
              "  '02bf1dfa9a0365a86223f0e4ac9eaa0517b06b2e9273790f719feda656a247ae',\n",
              "  '80db4ccdca106d37b920206331fcfe3e9e50a9e763d89b54ce3ad5ac8cf30f03',\n",
              "  'be55ef3f4c4e6c2d9c2afe2a33ac90ad0f50d4de7f9163999877e2a9ca5a54f8',\n",
              "  '7a1ca4ef7515f7276bae7230545829c27810c9d9e98ab2c06066bee6270d5153',\n",
              "  'c1ef40ce0484c698eb4bd27fe56c1e7b68d74f9780ed674210d0e5013dae45e9',\n",
              "  '5a9cf672c8be6b5ab9546a2fb49b06dd81a4e364c86ed023898c49d9bb0605dc',\n",
              "  '49dca65f362fee401292ed7ada96f96295eab1e589c52e4e66bf4aedda715fdd']}"
            ]
          },
          "metadata": {},
          "execution_count": 18
        }
      ]
    },
    {
      "cell_type": "code",
      "source": [
        "def get_col(x,col,col_dict):\n",
        "  if x in col_dict[col]:\n",
        "    return x\n",
        "  return \"not mentioned\""
      ],
      "metadata": {
        "id": "NOUgRW9odPpS"
      },
      "execution_count": 19,
      "outputs": []
    },
    {
      "cell_type": "code",
      "source": [
        "for col in code_cols:\n",
        "  df[col] = df[col].apply(lambda x : get_col(x,col,code_cols_dict))"
      ],
      "metadata": {
        "id": "VA6Q9NA2bUO5"
      },
      "execution_count": 20,
      "outputs": []
    },
    {
      "cell_type": "code",
      "source": [
        "# for col in code_cols:\n",
        "#   print(col)\n",
        "#   print(df[col].value_counts())\n",
        "#   print('='*100)"
      ],
      "metadata": {
        "id": "fy_UYyYEdnFZ"
      },
      "execution_count": 21,
      "outputs": []
    },
    {
      "cell_type": "code",
      "source": [
        "df['lost_reason'] = df['lost_reason'].apply(lambda x : get_reason(x))"
      ],
      "metadata": {
        "id": "KlAmJc9EduNW"
      },
      "execution_count": 22,
      "outputs": []
    },
    {
      "cell_type": "code",
      "source": [
        "df['lost_reason'].value_counts()"
      ],
      "metadata": {
        "colab": {
          "base_uri": "https://localhost:8080/"
        },
        "id": "nzGOV7-OfcB8",
        "outputId": "188f8af5-0c49-4d10-8ecb-2ab38d0a30fc"
      },
      "execution_count": 23,
      "outputs": [
        {
          "output_type": "execute_result",
          "data": {
            "text/plain": [
              "booked_na            10537\n",
              "no_response           7862\n",
              "not_interested        6778\n",
              "stay_accomodation     5862\n",
              "budget                5505\n",
              "junk                  3387\n",
              "not mentioned         3073\n",
              "admission             1611\n",
              "supply                1072\n",
              "location               630\n",
              "Name: lost_reason, dtype: int64"
            ]
          },
          "metadata": {},
          "execution_count": 23
        }
      ]
    },
    {
      "cell_type": "code",
      "source": [
        "df.columns"
      ],
      "metadata": {
        "colab": {
          "base_uri": "https://localhost:8080/"
        },
        "id": "8p-1dyeifhKa",
        "outputId": "4c699794-f9ae-42b4-f468-da533a4c3f4e"
      },
      "execution_count": 24,
      "outputs": [
        {
          "output_type": "execute_result",
          "data": {
            "text/plain": [
              "Index(['status', 'lost_reason', 'budget', 'duration', 'source', 'source_city',\n",
              "       'source_country', 'utm_source', 'utm_medium', 'des_city', 'des_country',\n",
              "       'room_type'],\n",
              "      dtype='object')"
            ]
          },
          "metadata": {},
          "execution_count": 24
        }
      ]
    },
    {
      "cell_type": "code",
      "source": [
        "df['room_type'].value_counts()"
      ],
      "metadata": {
        "colab": {
          "base_uri": "https://localhost:8080/"
        },
        "id": "xsVQ2XP1f8NC",
        "outputId": "eea44e17-4f04-49ba-c864-72dc8809eaf8"
      },
      "execution_count": 25,
      "outputs": [
        {
          "output_type": "execute_result",
          "data": {
            "text/plain": [
              "Ensuite         12379\n",
              "Studio           6316\n",
              "Entire Place     4128\n",
              "Non-Ensuite         2\n",
              "Twin-Studio         1\n",
              "Name: room_type, dtype: int64"
            ]
          },
          "metadata": {},
          "execution_count": 25
        }
      ]
    },
    {
      "cell_type": "code",
      "source": [
        "rooms = ['Ensuite','Studio','Entire Place']\n",
        "def get_room_type(x):\n",
        "  if x in rooms:\n",
        "    return x\n",
        "  return \"not mentioned\""
      ],
      "metadata": {
        "id": "-7RBJlu8f_tP"
      },
      "execution_count": 26,
      "outputs": []
    },
    {
      "cell_type": "code",
      "source": [
        "df['room_type'] = df['room_type'].apply(lambda x : get_room_type(x))\n",
        "df['room_type'].value_counts()"
      ],
      "metadata": {
        "colab": {
          "base_uri": "https://localhost:8080/"
        },
        "id": "zn2umjlggiee",
        "outputId": "8616f395-5113-428c-bd2f-6822aa47822b"
      },
      "execution_count": 27,
      "outputs": [
        {
          "output_type": "execute_result",
          "data": {
            "text/plain": [
              "not mentioned    23494\n",
              "Ensuite          12379\n",
              "Studio            6316\n",
              "Entire Place      4128\n",
              "Name: room_type, dtype: int64"
            ]
          },
          "metadata": {},
          "execution_count": 27
        }
      ]
    },
    {
      "cell_type": "code",
      "source": [
        "df.columns"
      ],
      "metadata": {
        "colab": {
          "base_uri": "https://localhost:8080/"
        },
        "id": "Udas8g3Ngr4g",
        "outputId": "e1ecf36d-9658-44ed-c4aa-c3eec4b76c10"
      },
      "execution_count": 28,
      "outputs": [
        {
          "output_type": "execute_result",
          "data": {
            "text/plain": [
              "Index(['status', 'lost_reason', 'budget', 'duration', 'source', 'source_city',\n",
              "       'source_country', 'utm_source', 'utm_medium', 'des_city', 'des_country',\n",
              "       'room_type'],\n",
              "      dtype='object')"
            ]
          },
          "metadata": {},
          "execution_count": 28
        }
      ]
    },
    {
      "cell_type": "code",
      "source": [
        "import re\n",
        "def get_nums(x,month):\n",
        "  numbers = re.findall(r'[0-9]+', x)\n",
        "  for i in range(len(numbers)):\n",
        "      numbers[i] = int(numbers[i])\n",
        "  if month:\n",
        "    for i in range(len(numbers)):\n",
        "      numbers[i] = 4 * numbers[i]\n",
        "  return numbers"
      ],
      "metadata": {
        "id": "2FVGPsSCvHjQ"
      },
      "execution_count": 29,
      "outputs": []
    },
    {
      "cell_type": "code",
      "source": [
        "weeks = ['pw','ppw','week','weeks','weekly']\n",
        "months = ['pm','ppm','month','months','monthly','pcm']\n",
        "def get_month(x):\n",
        "  for word in x:\n",
        "      if word in months:\n",
        "        return True\n",
        "  return False"
      ],
      "metadata": {
        "id": "4WBSJzXcyyOw"
      },
      "execution_count": 30,
      "outputs": []
    },
    {
      "cell_type": "code",
      "source": [
        "def get_budget(x):\n",
        "  x = str(x).lower()\n",
        "  x = re.sub(r'''(?i)\\b((?:https?://|www\\d{0,3}[.]|[a-z0-9.\\-]+[.][a-z]{2,4}/)(?:[^\\s()<>]+|\\(([^\\s()<>]+|(\\([^\\s()<>]+\\)))*\\))+(?:\\(([^\\s()<>]+|(\\([^\\s()<>]+\\)))*\\)|[^\\s`!()\\[\\]{};:'\".,<>?«»“”‘’]))''', \" \", x)\n",
        "  alphabets = re.findall(r'[a-zA-Z]+', x)\n",
        "  month = get_month(alphabets)\n",
        "  nums = get_nums(x,month)\n",
        "  # print(alphabets,nums,month)\n",
        "  if len(nums) == 0:\n",
        "    return [-1,-1]\n",
        "  elif len(nums) == 1:\n",
        "    return [nums[0],nums[0]]\n",
        "  elif len(nums) == 2:\n",
        "    return [nums[0],nums[1]]\n",
        "  elif len(nums) == 3 or len(nums) == 4:\n",
        "    return [nums[1],nums[2]]"
      ],
      "metadata": {
        "id": "bjItaV2rvXH0"
      },
      "execution_count": 31,
      "outputs": []
    },
    {
      "cell_type": "code",
      "source": [
        "get_budget(\"500 pcm\")"
      ],
      "metadata": {
        "colab": {
          "base_uri": "https://localhost:8080/"
        },
        "id": "DvcNBa6zuY5Y",
        "outputId": "f40e26d2-fe29-4225-eaac-d8a3a724ee41"
      },
      "execution_count": 32,
      "outputs": [
        {
          "output_type": "execute_result",
          "data": {
            "text/plain": [
              "[2000, 2000]"
            ]
          },
          "metadata": {},
          "execution_count": 32
        }
      ]
    },
    {
      "cell_type": "code",
      "source": [
        "df['budget'] = df['budget'].fillna(\"not_mentioned\")"
      ],
      "metadata": {
        "id": "Eb-zZkxI6diU"
      },
      "execution_count": 33,
      "outputs": []
    },
    {
      "cell_type": "code",
      "source": [
        "mins = []\n",
        "maxs = []\n",
        "for x in df['budget']:\n",
        "  got = get_budget(x)\n",
        "  if got[0] > 10000 or got[1] > 10000:\n",
        "    got = [-1,-1]\n",
        "  mins.append(got[0])\n",
        "  maxs.append(got[1])"
      ],
      "metadata": {
        "id": "whPf3NHI5JIq"
      },
      "execution_count": 34,
      "outputs": []
    },
    {
      "cell_type": "code",
      "source": [
        "df['min_budget'] = mins\n",
        "df['max_budget'] = maxs"
      ],
      "metadata": {
        "id": "Xg-Kz6zM6Wjl"
      },
      "execution_count": 35,
      "outputs": []
    },
    {
      "cell_type": "code",
      "source": [
        "# df[['budget','min_budget','max_budget']].head(20)"
      ],
      "metadata": {
        "id": "ib_5WhWr67vW"
      },
      "execution_count": 36,
      "outputs": []
    },
    {
      "cell_type": "code",
      "source": [
        "# df[df['duration'] == '2']"
      ],
      "metadata": {
        "id": "5pt3H27d-2eE"
      },
      "execution_count": 37,
      "outputs": []
    },
    {
      "cell_type": "code",
      "source": [
        "years = ['year','years']\n",
        "months = ['month','months','mnth']\n",
        "week = ['weeks','week']\n",
        "days = ['day','days']\n",
        "sem = [\"sem\",\"course\"]\n",
        "def getnum(n):\n",
        "  a = 0;\n",
        "  for x in n:\n",
        "    a += int(x)\n",
        "  return a // len(n)\n",
        "\n",
        "def get_duration(x):\n",
        "  x = x.lower()\n",
        "  alphabets = re.findall(r'[a-zA-Z]+', x)\n",
        "  numbers = re.findall(r'[0-9]+', x)\n",
        "  if len(alphabets) == 0:\n",
        "    if len(numbers) == 1:\n",
        "      if(numbers[0] == '1'):\n",
        "        return 52\n",
        "      elif len(numbers[0]) == 1:\n",
        "        return 4 * int(numbers[0])\n",
        "      elif len(numbers[0]) == 2:\n",
        "        return int(numbers[0])\n",
        "      elif len(numbers[0]) == 3:\n",
        "        return int(numbers[0]) // 7\n",
        "      return getnum(numbers)\n",
        "      \n",
        "\n",
        "  elif len(numbers) > 0 and len(alphabets) > 0:\n",
        "    for a in alphabets:\n",
        "      a = a.lower()\n",
        "      if a in days:\n",
        "        return getnum(numbers) // 7\n",
        "      elif a in weeks:\n",
        "        return getnum(numbers)\n",
        "      elif a in months:\n",
        "        return 4 * getnum(numbers)\n",
        "      elif a in years:\n",
        "        return 52 * getnum(numbers)\n",
        "      return getnum(numbers)\n",
        "\n",
        "  else:\n",
        "    for a in alphabets:\n",
        "      a = a.lower()\n",
        "      if \"sem\" in a or \"course\" in a:\n",
        "        return 24\n",
        "      elif a in months:\n",
        "        return 4 \n",
        "      elif a in years:\n",
        "        return 52\n",
        "  return -1\n"
      ],
      "metadata": {
        "id": "-UZ_-Q1a__NT"
      },
      "execution_count": 38,
      "outputs": []
    },
    {
      "cell_type": "code",
      "source": [
        "# for a,b in df['duration'].value_counts().items():\n",
        "#   print(a , \"==> \",get_duration(a))"
      ],
      "metadata": {
        "id": "opGiZSMs7JjX"
      },
      "execution_count": 39,
      "outputs": []
    },
    {
      "cell_type": "code",
      "source": [
        "df['duration'].fillna(\"not mentioned\",inplace=True)"
      ],
      "metadata": {
        "id": "weBucTXhf2HK"
      },
      "execution_count": 40,
      "outputs": []
    },
    {
      "cell_type": "code",
      "source": [
        "dur_list = df['duration'].apply(lambda x : get_duration(x))\n",
        "dur_list = [-1 if x >10000 else x for x in dur_list]"
      ],
      "metadata": {
        "id": "VaS0I4S0iw02"
      },
      "execution_count": 41,
      "outputs": []
    },
    {
      "cell_type": "code",
      "source": [
        "dict_weeks = {\"weeks\":dur_list}"
      ],
      "metadata": {
        "id": "GiS2H4F_jFml"
      },
      "execution_count": 42,
      "outputs": []
    },
    {
      "cell_type": "code",
      "source": [
        "dur_df = pd.DataFrame(dict_weeks)\n",
        "dur_df.describe()"
      ],
      "metadata": {
        "colab": {
          "base_uri": "https://localhost:8080/",
          "height": 300
        },
        "id": "utWwbgl8jMij",
        "outputId": "fff01e6b-ab43-4a6b-b202-fd26431274f6"
      },
      "execution_count": 43,
      "outputs": [
        {
          "output_type": "execute_result",
          "data": {
            "text/plain": [
              "              weeks\n",
              "count  46317.000000\n",
              "mean      28.786925\n",
              "std       23.418752\n",
              "min       -1.000000\n",
              "25%        0.000000\n",
              "50%       42.000000\n",
              "75%       51.000000\n",
              "max     2023.000000"
            ],
            "text/html": [
              "\n",
              "  <div id=\"df-56a5bcb0-8ff2-46ad-83ee-265f72f15097\">\n",
              "    <div class=\"colab-df-container\">\n",
              "      <div>\n",
              "<style scoped>\n",
              "    .dataframe tbody tr th:only-of-type {\n",
              "        vertical-align: middle;\n",
              "    }\n",
              "\n",
              "    .dataframe tbody tr th {\n",
              "        vertical-align: top;\n",
              "    }\n",
              "\n",
              "    .dataframe thead th {\n",
              "        text-align: right;\n",
              "    }\n",
              "</style>\n",
              "<table border=\"1\" class=\"dataframe\">\n",
              "  <thead>\n",
              "    <tr style=\"text-align: right;\">\n",
              "      <th></th>\n",
              "      <th>weeks</th>\n",
              "    </tr>\n",
              "  </thead>\n",
              "  <tbody>\n",
              "    <tr>\n",
              "      <th>count</th>\n",
              "      <td>46317.000000</td>\n",
              "    </tr>\n",
              "    <tr>\n",
              "      <th>mean</th>\n",
              "      <td>28.786925</td>\n",
              "    </tr>\n",
              "    <tr>\n",
              "      <th>std</th>\n",
              "      <td>23.418752</td>\n",
              "    </tr>\n",
              "    <tr>\n",
              "      <th>min</th>\n",
              "      <td>-1.000000</td>\n",
              "    </tr>\n",
              "    <tr>\n",
              "      <th>25%</th>\n",
              "      <td>0.000000</td>\n",
              "    </tr>\n",
              "    <tr>\n",
              "      <th>50%</th>\n",
              "      <td>42.000000</td>\n",
              "    </tr>\n",
              "    <tr>\n",
              "      <th>75%</th>\n",
              "      <td>51.000000</td>\n",
              "    </tr>\n",
              "    <tr>\n",
              "      <th>max</th>\n",
              "      <td>2023.000000</td>\n",
              "    </tr>\n",
              "  </tbody>\n",
              "</table>\n",
              "</div>\n",
              "      <button class=\"colab-df-convert\" onclick=\"convertToInteractive('df-56a5bcb0-8ff2-46ad-83ee-265f72f15097')\"\n",
              "              title=\"Convert this dataframe to an interactive table.\"\n",
              "              style=\"display:none;\">\n",
              "        \n",
              "  <svg xmlns=\"http://www.w3.org/2000/svg\" height=\"24px\"viewBox=\"0 0 24 24\"\n",
              "       width=\"24px\">\n",
              "    <path d=\"M0 0h24v24H0V0z\" fill=\"none\"/>\n",
              "    <path d=\"M18.56 5.44l.94 2.06.94-2.06 2.06-.94-2.06-.94-.94-2.06-.94 2.06-2.06.94zm-11 1L8.5 8.5l.94-2.06 2.06-.94-2.06-.94L8.5 2.5l-.94 2.06-2.06.94zm10 10l.94 2.06.94-2.06 2.06-.94-2.06-.94-.94-2.06-.94 2.06-2.06.94z\"/><path d=\"M17.41 7.96l-1.37-1.37c-.4-.4-.92-.59-1.43-.59-.52 0-1.04.2-1.43.59L10.3 9.45l-7.72 7.72c-.78.78-.78 2.05 0 2.83L4 21.41c.39.39.9.59 1.41.59.51 0 1.02-.2 1.41-.59l7.78-7.78 2.81-2.81c.8-.78.8-2.07 0-2.86zM5.41 20L4 18.59l7.72-7.72 1.47 1.35L5.41 20z\"/>\n",
              "  </svg>\n",
              "      </button>\n",
              "      \n",
              "  <style>\n",
              "    .colab-df-container {\n",
              "      display:flex;\n",
              "      flex-wrap:wrap;\n",
              "      gap: 12px;\n",
              "    }\n",
              "\n",
              "    .colab-df-convert {\n",
              "      background-color: #E8F0FE;\n",
              "      border: none;\n",
              "      border-radius: 50%;\n",
              "      cursor: pointer;\n",
              "      display: none;\n",
              "      fill: #1967D2;\n",
              "      height: 32px;\n",
              "      padding: 0 0 0 0;\n",
              "      width: 32px;\n",
              "    }\n",
              "\n",
              "    .colab-df-convert:hover {\n",
              "      background-color: #E2EBFA;\n",
              "      box-shadow: 0px 1px 2px rgba(60, 64, 67, 0.3), 0px 1px 3px 1px rgba(60, 64, 67, 0.15);\n",
              "      fill: #174EA6;\n",
              "    }\n",
              "\n",
              "    [theme=dark] .colab-df-convert {\n",
              "      background-color: #3B4455;\n",
              "      fill: #D2E3FC;\n",
              "    }\n",
              "\n",
              "    [theme=dark] .colab-df-convert:hover {\n",
              "      background-color: #434B5C;\n",
              "      box-shadow: 0px 1px 3px 1px rgba(0, 0, 0, 0.15);\n",
              "      filter: drop-shadow(0px 1px 2px rgba(0, 0, 0, 0.3));\n",
              "      fill: #FFFFFF;\n",
              "    }\n",
              "  </style>\n",
              "\n",
              "      <script>\n",
              "        const buttonEl =\n",
              "          document.querySelector('#df-56a5bcb0-8ff2-46ad-83ee-265f72f15097 button.colab-df-convert');\n",
              "        buttonEl.style.display =\n",
              "          google.colab.kernel.accessAllowed ? 'block' : 'none';\n",
              "\n",
              "        async function convertToInteractive(key) {\n",
              "          const element = document.querySelector('#df-56a5bcb0-8ff2-46ad-83ee-265f72f15097');\n",
              "          const dataTable =\n",
              "            await google.colab.kernel.invokeFunction('convertToInteractive',\n",
              "                                                     [key], {});\n",
              "          if (!dataTable) return;\n",
              "\n",
              "          const docLinkHtml = 'Like what you see? Visit the ' +\n",
              "            '<a target=\"_blank\" href=https://colab.research.google.com/notebooks/data_table.ipynb>data table notebook</a>'\n",
              "            + ' to learn more about interactive tables.';\n",
              "          element.innerHTML = '';\n",
              "          dataTable['output_type'] = 'display_data';\n",
              "          await google.colab.output.renderOutput(dataTable, element);\n",
              "          const docLink = document.createElement('div');\n",
              "          docLink.innerHTML = docLinkHtml;\n",
              "          element.appendChild(docLink);\n",
              "        }\n",
              "      </script>\n",
              "    </div>\n",
              "  </div>\n",
              "  "
            ]
          },
          "metadata": {},
          "execution_count": 43
        }
      ]
    },
    {
      "cell_type": "code",
      "source": [
        "sns.distplot(dur_df['weeks'])"
      ],
      "metadata": {
        "colab": {
          "base_uri": "https://localhost:8080/",
          "height": 657
        },
        "id": "jpopokCbjgNg",
        "outputId": "c0538fc5-75ad-42bc-b48a-bbacdef0fb89"
      },
      "execution_count": 44,
      "outputs": [
        {
          "output_type": "stream",
          "name": "stderr",
          "text": [
            "<ipython-input-44-927b1cef6311>:1: UserWarning: \n",
            "\n",
            "`distplot` is a deprecated function and will be removed in seaborn v0.14.0.\n",
            "\n",
            "Please adapt your code to use either `displot` (a figure-level function with\n",
            "similar flexibility) or `histplot` (an axes-level function for histograms).\n",
            "\n",
            "For a guide to updating your code to use the new functions, please see\n",
            "https://gist.github.com/mwaskom/de44147ed2974457ad6372750bbe5751\n",
            "\n",
            "  sns.distplot(dur_df['weeks'])\n"
          ]
        },
        {
          "output_type": "execute_result",
          "data": {
            "text/plain": [
              "<Axes: xlabel='weeks', ylabel='Density'>"
            ]
          },
          "metadata": {},
          "execution_count": 44
        },
        {
          "output_type": "display_data",
          "data": {
            "text/plain": [
              "<Figure size 640x480 with 1 Axes>"
            ],
            "image/png": "[encoded data removed]"
          },
          "metadata": {}
        }
      ]
    },
    {
      "cell_type": "code",
      "source": [
        "df['duration'] = dur_list"
      ],
      "metadata": {
        "id": "yAFjlXqbmPku"
      },
      "execution_count": 45,
      "outputs": []
    },
    {
      "cell_type": "code",
      "source": [
        "df.head(20)"
      ],
      "metadata": {
        "colab": {
          "base_uri": "https://localhost:8080/",
          "height": 1000
        },
        "id": "Y5Y4re7LmTFm",
        "outputId": "83d7e136-427b-4f68-d3a2-877ed1b4b167"
      },
      "execution_count": 46,
      "outputs": [
        {
          "output_type": "execute_result",
          "data": {
            "text/plain": [
              "   status        lost_reason                budget  duration  \\\n",
              "0    LOST        no_response         not_mentioned        -1   \n",
              "1    LOST     not_interested  £121 - £180 Per Week        51   \n",
              "2     WON      not mentioned                   0-0         0   \n",
              "3    LOST        no_response                   0-0        24   \n",
              "4    LOST               junk  £181 - £240 Per Week        42   \n",
              "5    LOST     not_interested  £121 - £180 Per Week        42   \n",
              "6    LOST        no_response   £60 - £120 Per week        42   \n",
              "7     WON      not mentioned  £121 - £180 Per Week        51   \n",
              "8    LOST               junk                   150        51   \n",
              "9    LOST          booked_na  £181 - £240 Per Week        42   \n",
              "10   LOST               junk   £60 - £120 Per week        22   \n",
              "11   LOST          booked_na   £60 - £120 Per week        51   \n",
              "12   LOST  stay_accomodation                   110        24   \n",
              "13   LOST           location                   0-0        24   \n",
              "14   LOST        no_response  £121 - £180 Per Week        42   \n",
              "15    WON      not mentioned                   250        51   \n",
              "16   LOST  stay_accomodation       > 300£ Per Week        42   \n",
              "17   LOST          admission                   0-0         0   \n",
              "18   LOST          booked_na                   0-0         0   \n",
              "19   LOST        no_response  £121 - £180 Per Week        42   \n",
              "\n",
              "                                               source  \\\n",
              "0   9b2d5b4678781e53038e91ea5324530a03f27dc1d0e5f6...   \n",
              "1   7aae3e886e89fc1187a5c47d6cea1c22998ee610ade1f2...   \n",
              "2   ba2d0a29556ac20f86f45e4543c0825428cba33fd7a9ea...   \n",
              "3   7bcfca0e9d73371699b0adbf1c691e02108fa64f02f4db...   \n",
              "4   7aae3e886e89fc1187a5c47d6cea1c22998ee610ade1f2...   \n",
              "5   7aae3e886e89fc1187a5c47d6cea1c22998ee610ade1f2...   \n",
              "6   7aae3e886e89fc1187a5c47d6cea1c22998ee610ade1f2...   \n",
              "7   7aae3e886e89fc1187a5c47d6cea1c22998ee610ade1f2...   \n",
              "8   146fb4ecbe78caa24102bbaac12e2559a8c8e32fb116d3...   \n",
              "9   7aae3e886e89fc1187a5c47d6cea1c22998ee610ade1f2...   \n",
              "10  7aae3e886e89fc1187a5c47d6cea1c22998ee610ade1f2...   \n",
              "11  7aae3e886e89fc1187a5c47d6cea1c22998ee610ade1f2...   \n",
              "12  7bcfca0e9d73371699b0adbf1c691e02108fa64f02f4db...   \n",
              "13  7bcfca0e9d73371699b0adbf1c691e02108fa64f02f4db...   \n",
              "14  7aae3e886e89fc1187a5c47d6cea1c22998ee610ade1f2...   \n",
              "15  b2b2a0ecb072ed25f1844a3325a810b85689bcc785ddb4...   \n",
              "16  7aae3e886e89fc1187a5c47d6cea1c22998ee610ade1f2...   \n",
              "17  9ba9134a91cfc6b52ac8d480e9ad37896ca4ac216e2d79...   \n",
              "18  ba2d0a29556ac20f86f45e4543c0825428cba33fd7a9ea...   \n",
              "19  7aae3e886e89fc1187a5c47d6cea1c22998ee610ade1f2...   \n",
              "\n",
              "                                          source_city  \\\n",
              "0   9b2d5b4678781e53038e91ea5324530a03f27dc1d0e5f6...   \n",
              "1                                       not mentioned   \n",
              "2                                       not mentioned   \n",
              "3                                       not mentioned   \n",
              "4                                       not mentioned   \n",
              "5   ecc0e7dc084f141b29479058967d0bc07dee25d9690a98...   \n",
              "6                                       not mentioned   \n",
              "7                                       not mentioned   \n",
              "8   9b2d5b4678781e53038e91ea5324530a03f27dc1d0e5f6...   \n",
              "9                                       not mentioned   \n",
              "10                                      not mentioned   \n",
              "11  ecc0e7dc084f141b29479058967d0bc07dee25d9690a98...   \n",
              "12  282f96b099630502f8bb5033849c69982dd14701585306...   \n",
              "13                                      not mentioned   \n",
              "14                                      not mentioned   \n",
              "15  9b2d5b4678781e53038e91ea5324530a03f27dc1d0e5f6...   \n",
              "16                                      not mentioned   \n",
              "17                                      not mentioned   \n",
              "18                                      not mentioned   \n",
              "19                                      not mentioned   \n",
              "\n",
              "                                       source_country  \\\n",
              "0   9b2d5b4678781e53038e91ea5324530a03f27dc1d0e5f6...   \n",
              "1   e09e10e67812e9d236ad900e5d46b4308fc62f5d69446a...   \n",
              "2   e09e10e67812e9d236ad900e5d46b4308fc62f5d69446a...   \n",
              "3   e09e10e67812e9d236ad900e5d46b4308fc62f5d69446a...   \n",
              "4   c2863266ba318106a050f6f52c0a0e5ee19bdbacc19c09...   \n",
              "5   e09e10e67812e9d236ad900e5d46b4308fc62f5d69446a...   \n",
              "6   e09e10e67812e9d236ad900e5d46b4308fc62f5d69446a...   \n",
              "7   e09e10e67812e9d236ad900e5d46b4308fc62f5d69446a...   \n",
              "8   9b2d5b4678781e53038e91ea5324530a03f27dc1d0e5f6...   \n",
              "9   e09e10e67812e9d236ad900e5d46b4308fc62f5d69446a...   \n",
              "10                                      not mentioned   \n",
              "11  e09e10e67812e9d236ad900e5d46b4308fc62f5d69446a...   \n",
              "12  8da82000ef9c4468ba47362a924b895e40662fed846942...   \n",
              "13                                      not mentioned   \n",
              "14                                      not mentioned   \n",
              "15  9b2d5b4678781e53038e91ea5324530a03f27dc1d0e5f6...   \n",
              "16                                      not mentioned   \n",
              "17  8da82000ef9c4468ba47362a924b895e40662fed846942...   \n",
              "18  38fe804a1f9ec032ad876bd7192c1f706e1402831e163c...   \n",
              "19  8da82000ef9c4468ba47362a924b895e40662fed846942...   \n",
              "\n",
              "                                           utm_source  \\\n",
              "0   3d59f7548e1af2151b64135003ce63c0a484c26b9b8b16...   \n",
              "1   bbdefa2950f49882f295b1285d4fa9dec45fc4144bfb07...   \n",
              "2   9ac56ef275bb33f0f931abd846e53e845a80af8a549100...   \n",
              "3   bbdefa2950f49882f295b1285d4fa9dec45fc4144bfb07...   \n",
              "4   bbdefa2950f49882f295b1285d4fa9dec45fc4144bfb07...   \n",
              "5   bbdefa2950f49882f295b1285d4fa9dec45fc4144bfb07...   \n",
              "6   bbdefa2950f49882f295b1285d4fa9dec45fc4144bfb07...   \n",
              "7   bbdefa2950f49882f295b1285d4fa9dec45fc4144bfb07...   \n",
              "8   7f3fa48ca885678134842fa7456f3ece53a97f843b6101...   \n",
              "9   bbdefa2950f49882f295b1285d4fa9dec45fc4144bfb07...   \n",
              "10  bbdefa2950f49882f295b1285d4fa9dec45fc4144bfb07...   \n",
              "11  bbdefa2950f49882f295b1285d4fa9dec45fc4144bfb07...   \n",
              "12  bbdefa2950f49882f295b1285d4fa9dec45fc4144bfb07...   \n",
              "13  9ac56ef275bb33f0f931abd846e53e845a80af8a549100...   \n",
              "14  bbdefa2950f49882f295b1285d4fa9dec45fc4144bfb07...   \n",
              "15  7f3fa48ca885678134842fa7456f3ece53a97f843b6101...   \n",
              "16  bbdefa2950f49882f295b1285d4fa9dec45fc4144bfb07...   \n",
              "17  bbdefa2950f49882f295b1285d4fa9dec45fc4144bfb07...   \n",
              "18  bbdefa2950f49882f295b1285d4fa9dec45fc4144bfb07...   \n",
              "19  bbdefa2950f49882f295b1285d4fa9dec45fc4144bfb07...   \n",
              "\n",
              "                                           utm_medium  \\\n",
              "0   268ad70eb5bc4737a2ae28162cbca30118cc94520e49ef...   \n",
              "1   09076eb7665d1fb9389c7c4517fee0b00e43092eb34821...   \n",
              "2   82244417f956ac7c599f191593f7e441a4fafa20a4158f...   \n",
              "3   09076eb7665d1fb9389c7c4517fee0b00e43092eb34821...   \n",
              "4   09076eb7665d1fb9389c7c4517fee0b00e43092eb34821...   \n",
              "5   09076eb7665d1fb9389c7c4517fee0b00e43092eb34821...   \n",
              "6   09076eb7665d1fb9389c7c4517fee0b00e43092eb34821...   \n",
              "7   09076eb7665d1fb9389c7c4517fee0b00e43092eb34821...   \n",
              "8                                       not mentioned   \n",
              "9   09076eb7665d1fb9389c7c4517fee0b00e43092eb34821...   \n",
              "10  09076eb7665d1fb9389c7c4517fee0b00e43092eb34821...   \n",
              "11  09076eb7665d1fb9389c7c4517fee0b00e43092eb34821...   \n",
              "12  09076eb7665d1fb9389c7c4517fee0b00e43092eb34821...   \n",
              "13  82244417f956ac7c599f191593f7e441a4fafa20a4158f...   \n",
              "14  09076eb7665d1fb9389c7c4517fee0b00e43092eb34821...   \n",
              "15                                      not mentioned   \n",
              "16  09076eb7665d1fb9389c7c4517fee0b00e43092eb34821...   \n",
              "17  09076eb7665d1fb9389c7c4517fee0b00e43092eb34821...   \n",
              "18  09076eb7665d1fb9389c7c4517fee0b00e43092eb34821...   \n",
              "19  09076eb7665d1fb9389c7c4517fee0b00e43092eb34821...   \n",
              "\n",
              "                                             des_city  \\\n",
              "0   ecc0e7dc084f141b29479058967d0bc07dee25d9690a98...   \n",
              "1   11ab03a1a8c367191355c152f39fe28cae5e426fce49ef...   \n",
              "2   810c069040f6a9b16fdf976a901755508a87cb0224b169...   \n",
              "3                                       not mentioned   \n",
              "4   810c069040f6a9b16fdf976a901755508a87cb0224b169...   \n",
              "5   9b8cc3c63cdf447e463c11544924bf027945cbd29675f7...   \n",
              "6                                       not mentioned   \n",
              "7   11ab03a1a8c367191355c152f39fe28cae5e426fce49ef...   \n",
              "8   9b2d5b4678781e53038e91ea5324530a03f27dc1d0e5f6...   \n",
              "9   ecc0e7dc084f141b29479058967d0bc07dee25d9690a98...   \n",
              "10  ecc0e7dc084f141b29479058967d0bc07dee25d9690a98...   \n",
              "11  5e02dadaa7e4cd29809e2f8a115f1e5e9c01b29813a1fb...   \n",
              "12                                      not mentioned   \n",
              "13  9b2d5b4678781e53038e91ea5324530a03f27dc1d0e5f6...   \n",
              "14                                      not mentioned   \n",
              "15                                      not mentioned   \n",
              "16  ecc0e7dc084f141b29479058967d0bc07dee25d9690a98...   \n",
              "17                                      not mentioned   \n",
              "18                                      not mentioned   \n",
              "19                                      not mentioned   \n",
              "\n",
              "                                          des_country      room_type  \\\n",
              "0   8d23a6e37e0a6431a8f1b43a91026dcff51170a89a6512...  not mentioned   \n",
              "1   8d23a6e37e0a6431a8f1b43a91026dcff51170a89a6512...        Ensuite   \n",
              "2   8d23a6e37e0a6431a8f1b43a91026dcff51170a89a6512...  not mentioned   \n",
              "3   8d23a6e37e0a6431a8f1b43a91026dcff51170a89a6512...  not mentioned   \n",
              "4   8d23a6e37e0a6431a8f1b43a91026dcff51170a89a6512...         Studio   \n",
              "5   8d23a6e37e0a6431a8f1b43a91026dcff51170a89a6512...        Ensuite   \n",
              "6   8d23a6e37e0a6431a8f1b43a91026dcff51170a89a6512...        Ensuite   \n",
              "7   8d23a6e37e0a6431a8f1b43a91026dcff51170a89a6512...         Studio   \n",
              "8   9b2d5b4678781e53038e91ea5324530a03f27dc1d0e5f6...  not mentioned   \n",
              "9   8d23a6e37e0a6431a8f1b43a91026dcff51170a89a6512...        Ensuite   \n",
              "10  8d23a6e37e0a6431a8f1b43a91026dcff51170a89a6512...        Ensuite   \n",
              "11  8d23a6e37e0a6431a8f1b43a91026dcff51170a89a6512...   Entire Place   \n",
              "12  8d23a6e37e0a6431a8f1b43a91026dcff51170a89a6512...  not mentioned   \n",
              "13  9b2d5b4678781e53038e91ea5324530a03f27dc1d0e5f6...  not mentioned   \n",
              "14  8d23a6e37e0a6431a8f1b43a91026dcff51170a89a6512...        Ensuite   \n",
              "15  8d23a6e37e0a6431a8f1b43a91026dcff51170a89a6512...  not mentioned   \n",
              "16  8d23a6e37e0a6431a8f1b43a91026dcff51170a89a6512...         Studio   \n",
              "17  8d23a6e37e0a6431a8f1b43a91026dcff51170a89a6512...  not mentioned   \n",
              "18  8d23a6e37e0a6431a8f1b43a91026dcff51170a89a6512...  not mentioned   \n",
              "19  8d23a6e37e0a6431a8f1b43a91026dcff51170a89a6512...   Entire Place   \n",
              "\n",
              "    min_budget  max_budget  \n",
              "0           -1          -1  \n",
              "1          121         180  \n",
              "2            0           0  \n",
              "3            0           0  \n",
              "4          181         240  \n",
              "5          121         180  \n",
              "6           60         120  \n",
              "7          121         180  \n",
              "8          150         150  \n",
              "9          181         240  \n",
              "10          60         120  \n",
              "11          60         120  \n",
              "12         110         110  \n",
              "13           0           0  \n",
              "14         121         180  \n",
              "15         250         250  \n",
              "16         300         300  \n",
              "17           0           0  \n",
              "18           0           0  \n",
              "19         121         180  "
            ],
            "text/html": [
              "\n",
              "  <div id=\"df-8879700d-570a-4501-aa90-115510c27ff7\">\n",
              "    <div class=\"colab-df-container\">\n",
              "      <div>\n",
              "<style scoped>\n",
              "    .dataframe tbody tr th:only-of-type {\n",
              "        vertical-align: middle;\n",
              "    }\n",
              "\n",
              "    .dataframe tbody tr th {\n",
              "        vertical-align: top;\n",
              "    }\n",
              "\n",
              "    .dataframe thead th {\n",
              "        text-align: right;\n",
              "    }\n",
              "</style>\n",
              "<table border=\"1\" class=\"dataframe\">\n",
              "  <thead>\n",
              "    <tr style=\"text-align: right;\">\n",
              "      <th></th>\n",
              "      <th>status</th>\n",
              "      <th>lost_reason</th>\n",
              "      <th>budget</th>\n",
              "      <th>duration</th>\n",
              "      <th>source</th>\n",
              "      <th>source_city</th>\n",
              "      <th>source_country</th>\n",
              "      <th>utm_source</th>\n",
              "      <th>utm_medium</th>\n",
              "      <th>des_city</th>\n",
              "      <th>des_country</th>\n",
              "      <th>room_type</th>\n",
              "      <th>min_budget</th>\n",
              "      <th>max_budget</th>\n",
              "    </tr>\n",
              "  </thead>\n",
              "  <tbody>\n",
              "    <tr>\n",
              "      <th>0</th>\n",
              "      <td>LOST</td>\n",
              "      <td>no_response</td>\n",
              "      <td>not_mentioned</td>\n",
              "      <td>-1</td>\n",
              "      <td>9b2d5b4678781e53038e91ea5324530a03f27dc1d0e5f6...</td>\n",
              "      <td>9b2d5b4678781e53038e91ea5324530a03f27dc1d0e5f6...</td>\n",
              "      <td>9b2d5b4678781e53038e91ea5324530a03f27dc1d0e5f6...</td>\n",
              "      <td>3d59f7548e1af2151b64135003ce63c0a484c26b9b8b16...</td>\n",
              "      <td>268ad70eb5bc4737a2ae28162cbca30118cc94520e49ef...</td>\n",
              "      <td>ecc0e7dc084f141b29479058967d0bc07dee25d9690a98...</td>\n",
              "      <td>8d23a6e37e0a6431a8f1b43a91026dcff51170a89a6512...</td>\n",
              "      <td>not mentioned</td>\n",
              "      <td>-1</td>\n",
              "      <td>-1</td>\n",
              "    </tr>\n",
              "    <tr>\n",
              "      <th>1</th>\n",
              "      <td>LOST</td>\n",
              "      <td>not_interested</td>\n",
              "      <td>£121 - £180 Per Week</td>\n",
              "      <td>51</td>\n",
              "      <td>7aae3e886e89fc1187a5c47d6cea1c22998ee610ade1f2...</td>\n",
              "      <td>not mentioned</td>\n",
              "      <td>e09e10e67812e9d236ad900e5d46b4308fc62f5d69446a...</td>\n",
              "      <td>bbdefa2950f49882f295b1285d4fa9dec45fc4144bfb07...</td>\n",
              "      <td>09076eb7665d1fb9389c7c4517fee0b00e43092eb34821...</td>\n",
              "      <td>11ab03a1a8c367191355c152f39fe28cae5e426fce49ef...</td>\n",
              "      <td>8d23a6e37e0a6431a8f1b43a91026dcff51170a89a6512...</td>\n",
              "      <td>Ensuite</td>\n",
              "      <td>121</td>\n",
              "      <td>180</td>\n",
              "    </tr>\n",
              "    <tr>\n",
              "      <th>2</th>\n",
              "      <td>WON</td>\n",
              "      <td>not mentioned</td>\n",
              "      <td>0-0</td>\n",
              "      <td>0</td>\n",
              "      <td>ba2d0a29556ac20f86f45e4543c0825428cba33fd7a9ea...</td>\n",
              "      <td>not mentioned</td>\n",
              "      <td>e09e10e67812e9d236ad900e5d46b4308fc62f5d69446a...</td>\n",
              "      <td>9ac56ef275bb33f0f931abd846e53e845a80af8a549100...</td>\n",
              "      <td>82244417f956ac7c599f191593f7e441a4fafa20a4158f...</td>\n",
              "      <td>810c069040f6a9b16fdf976a901755508a87cb0224b169...</td>\n",
              "      <td>8d23a6e37e0a6431a8f1b43a91026dcff51170a89a6512...</td>\n",
              "      <td>not mentioned</td>\n",
              "      <td>0</td>\n",
              "      <td>0</td>\n",
              "    </tr>\n",
              "    <tr>\n",
              "      <th>3</th>\n",
              "      <td>LOST</td>\n",
              "      <td>no_response</td>\n",
              "      <td>0-0</td>\n",
              "      <td>24</td>\n",
              "      <td>7bcfca0e9d73371699b0adbf1c691e02108fa64f02f4db...</td>\n",
              "      <td>not mentioned</td>\n",
              "      <td>e09e10e67812e9d236ad900e5d46b4308fc62f5d69446a...</td>\n",
              "      <td>bbdefa2950f49882f295b1285d4fa9dec45fc4144bfb07...</td>\n",
              "      <td>09076eb7665d1fb9389c7c4517fee0b00e43092eb34821...</td>\n",
              "      <td>not mentioned</td>\n",
              "      <td>8d23a6e37e0a6431a8f1b43a91026dcff51170a89a6512...</td>\n",
              "      <td>not mentioned</td>\n",
              "      <td>0</td>\n",
              "      <td>0</td>\n",
              "    </tr>\n",
              "    <tr>\n",
              "      <th>4</th>\n",
              "      <td>LOST</td>\n",
              "      <td>junk</td>\n",
              "      <td>£181 - £240 Per Week</td>\n",
              "      <td>42</td>\n",
              "      <td>7aae3e886e89fc1187a5c47d6cea1c22998ee610ade1f2...</td>\n",
              "      <td>not mentioned</td>\n",
              "      <td>c2863266ba318106a050f6f52c0a0e5ee19bdbacc19c09...</td>\n",
              "      <td>bbdefa2950f49882f295b1285d4fa9dec45fc4144bfb07...</td>\n",
              "      <td>09076eb7665d1fb9389c7c4517fee0b00e43092eb34821...</td>\n",
              "      <td>810c069040f6a9b16fdf976a901755508a87cb0224b169...</td>\n",
              "      <td>8d23a6e37e0a6431a8f1b43a91026dcff51170a89a6512...</td>\n",
              "      <td>Studio</td>\n",
              "      <td>181</td>\n",
              "      <td>240</td>\n",
              "    </tr>\n",
              "    <tr>\n",
              "      <th>5</th>\n",
              "      <td>LOST</td>\n",
              "      <td>not_interested</td>\n",
              "      <td>£121 - £180 Per Week</td>\n",
              "      <td>42</td>\n",
              "      <td>7aae3e886e89fc1187a5c47d6cea1c22998ee610ade1f2...</td>\n",
              "      <td>ecc0e7dc084f141b29479058967d0bc07dee25d9690a98...</td>\n",
              "      <td>e09e10e67812e9d236ad900e5d46b4308fc62f5d69446a...</td>\n",
              "      <td>bbdefa2950f49882f295b1285d4fa9dec45fc4144bfb07...</td>\n",
              "      <td>09076eb7665d1fb9389c7c4517fee0b00e43092eb34821...</td>\n",
              "      <td>9b8cc3c63cdf447e463c11544924bf027945cbd29675f7...</td>\n",
              "      <td>8d23a6e37e0a6431a8f1b43a91026dcff51170a89a6512...</td>\n",
              "      <td>Ensuite</td>\n",
              "      <td>121</td>\n",
              "      <td>180</td>\n",
              "    </tr>\n",
              "    <tr>\n",
              "      <th>6</th>\n",
              "      <td>LOST</td>\n",
              "      <td>no_response</td>\n",
              "      <td>£60 - £120 Per week</td>\n",
              "      <td>42</td>\n",
              "      <td>7aae3e886e89fc1187a5c47d6cea1c22998ee610ade1f2...</td>\n",
              "      <td>not mentioned</td>\n",
              "      <td>e09e10e67812e9d236ad900e5d46b4308fc62f5d69446a...</td>\n",
              "      <td>bbdefa2950f49882f295b1285d4fa9dec45fc4144bfb07...</td>\n",
              "      <td>09076eb7665d1fb9389c7c4517fee0b00e43092eb34821...</td>\n",
              "      <td>not mentioned</td>\n",
              "      <td>8d23a6e37e0a6431a8f1b43a91026dcff51170a89a6512...</td>\n",
              "      <td>Ensuite</td>\n",
              "      <td>60</td>\n",
              "      <td>120</td>\n",
              "    </tr>\n",
              "    <tr>\n",
              "      <th>7</th>\n",
              "      <td>WON</td>\n",
              "      <td>not mentioned</td>\n",
              "      <td>£121 - £180 Per Week</td>\n",
              "      <td>51</td>\n",
              "      <td>7aae3e886e89fc1187a5c47d6cea1c22998ee610ade1f2...</td>\n",
              "      <td>not mentioned</td>\n",
              "      <td>e09e10e67812e9d236ad900e5d46b4308fc62f5d69446a...</td>\n",
              "      <td>bbdefa2950f49882f295b1285d4fa9dec45fc4144bfb07...</td>\n",
              "      <td>09076eb7665d1fb9389c7c4517fee0b00e43092eb34821...</td>\n",
              "      <td>11ab03a1a8c367191355c152f39fe28cae5e426fce49ef...</td>\n",
              "      <td>8d23a6e37e0a6431a8f1b43a91026dcff51170a89a6512...</td>\n",
              "      <td>Studio</td>\n",
              "      <td>121</td>\n",
              "      <td>180</td>\n",
              "    </tr>\n",
              "    <tr>\n",
              "      <th>8</th>\n",
              "      <td>LOST</td>\n",
              "      <td>junk</td>\n",
              "      <td>150</td>\n",
              "      <td>51</td>\n",
              "      <td>146fb4ecbe78caa24102bbaac12e2559a8c8e32fb116d3...</td>\n",
              "      <td>9b2d5b4678781e53038e91ea5324530a03f27dc1d0e5f6...</td>\n",
              "      <td>9b2d5b4678781e53038e91ea5324530a03f27dc1d0e5f6...</td>\n",
              "      <td>7f3fa48ca885678134842fa7456f3ece53a97f843b6101...</td>\n",
              "      <td>not mentioned</td>\n",
              "      <td>9b2d5b4678781e53038e91ea5324530a03f27dc1d0e5f6...</td>\n",
              "      <td>9b2d5b4678781e53038e91ea5324530a03f27dc1d0e5f6...</td>\n",
              "      <td>not mentioned</td>\n",
              "      <td>150</td>\n",
              "      <td>150</td>\n",
              "    </tr>\n",
              "    <tr>\n",
              "      <th>9</th>\n",
              "      <td>LOST</td>\n",
              "      <td>booked_na</td>\n",
              "      <td>£181 - £240 Per Week</td>\n",
              "      <td>42</td>\n",
              "      <td>7aae3e886e89fc1187a5c47d6cea1c22998ee610ade1f2...</td>\n",
              "      <td>not mentioned</td>\n",
              "      <td>e09e10e67812e9d236ad900e5d46b4308fc62f5d69446a...</td>\n",
              "      <td>bbdefa2950f49882f295b1285d4fa9dec45fc4144bfb07...</td>\n",
              "      <td>09076eb7665d1fb9389c7c4517fee0b00e43092eb34821...</td>\n",
              "      <td>ecc0e7dc084f141b29479058967d0bc07dee25d9690a98...</td>\n",
              "      <td>8d23a6e37e0a6431a8f1b43a91026dcff51170a89a6512...</td>\n",
              "      <td>Ensuite</td>\n",
              "      <td>181</td>\n",
              "      <td>240</td>\n",
              "    </tr>\n",
              "    <tr>\n",
              "      <th>10</th>\n",
              "      <td>LOST</td>\n",
              "      <td>junk</td>\n",
              "      <td>£60 - £120 Per week</td>\n",
              "      <td>22</td>\n",
              "      <td>7aae3e886e89fc1187a5c47d6cea1c22998ee610ade1f2...</td>\n",
              "      <td>not mentioned</td>\n",
              "      <td>not mentioned</td>\n",
              "      <td>bbdefa2950f49882f295b1285d4fa9dec45fc4144bfb07...</td>\n",
              "      <td>09076eb7665d1fb9389c7c4517fee0b00e43092eb34821...</td>\n",
              "      <td>ecc0e7dc084f141b29479058967d0bc07dee25d9690a98...</td>\n",
              "      <td>8d23a6e37e0a6431a8f1b43a91026dcff51170a89a6512...</td>\n",
              "      <td>Ensuite</td>\n",
              "      <td>60</td>\n",
              "      <td>120</td>\n",
              "    </tr>\n",
              "    <tr>\n",
              "      <th>11</th>\n",
              "      <td>LOST</td>\n",
              "      <td>booked_na</td>\n",
              "      <td>£60 - £120 Per week</td>\n",
              "      <td>51</td>\n",
              "      <td>7aae3e886e89fc1187a5c47d6cea1c22998ee610ade1f2...</td>\n",
              "      <td>ecc0e7dc084f141b29479058967d0bc07dee25d9690a98...</td>\n",
              "      <td>e09e10e67812e9d236ad900e5d46b4308fc62f5d69446a...</td>\n",
              "      <td>bbdefa2950f49882f295b1285d4fa9dec45fc4144bfb07...</td>\n",
              "      <td>09076eb7665d1fb9389c7c4517fee0b00e43092eb34821...</td>\n",
              "      <td>5e02dadaa7e4cd29809e2f8a115f1e5e9c01b29813a1fb...</td>\n",
              "      <td>8d23a6e37e0a6431a8f1b43a91026dcff51170a89a6512...</td>\n",
              "      <td>Entire Place</td>\n",
              "      <td>60</td>\n",
              "      <td>120</td>\n",
              "    </tr>\n",
              "    <tr>\n",
              "      <th>12</th>\n",
              "      <td>LOST</td>\n",
              "      <td>stay_accomodation</td>\n",
              "      <td>110</td>\n",
              "      <td>24</td>\n",
              "      <td>7bcfca0e9d73371699b0adbf1c691e02108fa64f02f4db...</td>\n",
              "      <td>282f96b099630502f8bb5033849c69982dd14701585306...</td>\n",
              "      <td>8da82000ef9c4468ba47362a924b895e40662fed846942...</td>\n",
              "      <td>bbdefa2950f49882f295b1285d4fa9dec45fc4144bfb07...</td>\n",
              "      <td>09076eb7665d1fb9389c7c4517fee0b00e43092eb34821...</td>\n",
              "      <td>not mentioned</td>\n",
              "      <td>8d23a6e37e0a6431a8f1b43a91026dcff51170a89a6512...</td>\n",
              "      <td>not mentioned</td>\n",
              "      <td>110</td>\n",
              "      <td>110</td>\n",
              "    </tr>\n",
              "    <tr>\n",
              "      <th>13</th>\n",
              "      <td>LOST</td>\n",
              "      <td>location</td>\n",
              "      <td>0-0</td>\n",
              "      <td>24</td>\n",
              "      <td>7bcfca0e9d73371699b0adbf1c691e02108fa64f02f4db...</td>\n",
              "      <td>not mentioned</td>\n",
              "      <td>not mentioned</td>\n",
              "      <td>9ac56ef275bb33f0f931abd846e53e845a80af8a549100...</td>\n",
              "      <td>82244417f956ac7c599f191593f7e441a4fafa20a4158f...</td>\n",
              "      <td>9b2d5b4678781e53038e91ea5324530a03f27dc1d0e5f6...</td>\n",
              "      <td>9b2d5b4678781e53038e91ea5324530a03f27dc1d0e5f6...</td>\n",
              "      <td>not mentioned</td>\n",
              "      <td>0</td>\n",
              "      <td>0</td>\n",
              "    </tr>\n",
              "    <tr>\n",
              "      <th>14</th>\n",
              "      <td>LOST</td>\n",
              "      <td>no_response</td>\n",
              "      <td>£121 - £180 Per Week</td>\n",
              "      <td>42</td>\n",
              "      <td>7aae3e886e89fc1187a5c47d6cea1c22998ee610ade1f2...</td>\n",
              "      <td>not mentioned</td>\n",
              "      <td>not mentioned</td>\n",
              "      <td>bbdefa2950f49882f295b1285d4fa9dec45fc4144bfb07...</td>\n",
              "      <td>09076eb7665d1fb9389c7c4517fee0b00e43092eb34821...</td>\n",
              "      <td>not mentioned</td>\n",
              "      <td>8d23a6e37e0a6431a8f1b43a91026dcff51170a89a6512...</td>\n",
              "      <td>Ensuite</td>\n",
              "      <td>121</td>\n",
              "      <td>180</td>\n",
              "    </tr>\n",
              "    <tr>\n",
              "      <th>15</th>\n",
              "      <td>WON</td>\n",
              "      <td>not mentioned</td>\n",
              "      <td>250</td>\n",
              "      <td>51</td>\n",
              "      <td>b2b2a0ecb072ed25f1844a3325a810b85689bcc785ddb4...</td>\n",
              "      <td>9b2d5b4678781e53038e91ea5324530a03f27dc1d0e5f6...</td>\n",
              "      <td>9b2d5b4678781e53038e91ea5324530a03f27dc1d0e5f6...</td>\n",
              "      <td>7f3fa48ca885678134842fa7456f3ece53a97f843b6101...</td>\n",
              "      <td>not mentioned</td>\n",
              "      <td>not mentioned</td>\n",
              "      <td>8d23a6e37e0a6431a8f1b43a91026dcff51170a89a6512...</td>\n",
              "      <td>not mentioned</td>\n",
              "      <td>250</td>\n",
              "      <td>250</td>\n",
              "    </tr>\n",
              "    <tr>\n",
              "      <th>16</th>\n",
              "      <td>LOST</td>\n",
              "      <td>stay_accomodation</td>\n",
              "      <td>&gt; 300£ Per Week</td>\n",
              "      <td>42</td>\n",
              "      <td>7aae3e886e89fc1187a5c47d6cea1c22998ee610ade1f2...</td>\n",
              "      <td>not mentioned</td>\n",
              "      <td>not mentioned</td>\n",
              "      <td>bbdefa2950f49882f295b1285d4fa9dec45fc4144bfb07...</td>\n",
              "      <td>09076eb7665d1fb9389c7c4517fee0b00e43092eb34821...</td>\n",
              "      <td>ecc0e7dc084f141b29479058967d0bc07dee25d9690a98...</td>\n",
              "      <td>8d23a6e37e0a6431a8f1b43a91026dcff51170a89a6512...</td>\n",
              "      <td>Studio</td>\n",
              "      <td>300</td>\n",
              "      <td>300</td>\n",
              "    </tr>\n",
              "    <tr>\n",
              "      <th>17</th>\n",
              "      <td>LOST</td>\n",
              "      <td>admission</td>\n",
              "      <td>0-0</td>\n",
              "      <td>0</td>\n",
              "      <td>9ba9134a91cfc6b52ac8d480e9ad37896ca4ac216e2d79...</td>\n",
              "      <td>not mentioned</td>\n",
              "      <td>8da82000ef9c4468ba47362a924b895e40662fed846942...</td>\n",
              "      <td>bbdefa2950f49882f295b1285d4fa9dec45fc4144bfb07...</td>\n",
              "      <td>09076eb7665d1fb9389c7c4517fee0b00e43092eb34821...</td>\n",
              "      <td>not mentioned</td>\n",
              "      <td>8d23a6e37e0a6431a8f1b43a91026dcff51170a89a6512...</td>\n",
              "      <td>not mentioned</td>\n",
              "      <td>0</td>\n",
              "      <td>0</td>\n",
              "    </tr>\n",
              "    <tr>\n",
              "      <th>18</th>\n",
              "      <td>LOST</td>\n",
              "      <td>booked_na</td>\n",
              "      <td>0-0</td>\n",
              "      <td>0</td>\n",
              "      <td>ba2d0a29556ac20f86f45e4543c0825428cba33fd7a9ea...</td>\n",
              "      <td>not mentioned</td>\n",
              "      <td>38fe804a1f9ec032ad876bd7192c1f706e1402831e163c...</td>\n",
              "      <td>bbdefa2950f49882f295b1285d4fa9dec45fc4144bfb07...</td>\n",
              "      <td>09076eb7665d1fb9389c7c4517fee0b00e43092eb34821...</td>\n",
              "      <td>not mentioned</td>\n",
              "      <td>8d23a6e37e0a6431a8f1b43a91026dcff51170a89a6512...</td>\n",
              "      <td>not mentioned</td>\n",
              "      <td>0</td>\n",
              "      <td>0</td>\n",
              "    </tr>\n",
              "    <tr>\n",
              "      <th>19</th>\n",
              "      <td>LOST</td>\n",
              "      <td>no_response</td>\n",
              "      <td>£121 - £180 Per Week</td>\n",
              "      <td>42</td>\n",
              "      <td>7aae3e886e89fc1187a5c47d6cea1c22998ee610ade1f2...</td>\n",
              "      <td>not mentioned</td>\n",
              "      <td>8da82000ef9c4468ba47362a924b895e40662fed846942...</td>\n",
              "      <td>bbdefa2950f49882f295b1285d4fa9dec45fc4144bfb07...</td>\n",
              "      <td>09076eb7665d1fb9389c7c4517fee0b00e43092eb34821...</td>\n",
              "      <td>not mentioned</td>\n",
              "      <td>8d23a6e37e0a6431a8f1b43a91026dcff51170a89a6512...</td>\n",
              "      <td>Entire Place</td>\n",
              "      <td>121</td>\n",
              "      <td>180</td>\n",
              "    </tr>\n",
              "  </tbody>\n",
              "</table>\n",
              "</div>\n",
              "      <button class=\"colab-df-convert\" onclick=\"convertToInteractive('df-8879700d-570a-4501-aa90-115510c27ff7')\"\n",
              "              title=\"Convert this dataframe to an interactive table.\"\n",
              "              style=\"display:none;\">\n",
              "        \n",
              "  <svg xmlns=\"http://www.w3.org/2000/svg\" height=\"24px\"viewBox=\"0 0 24 24\"\n",
              "       width=\"24px\">\n",
              "    <path d=\"M0 0h24v24H0V0z\" fill=\"none\"/>\n",
              "    <path d=\"M18.56 5.44l.94 2.06.94-2.06 2.06-.94-2.06-.94-.94-2.06-.94 2.06-2.06.94zm-11 1L8.5 8.5l.94-2.06 2.06-.94-2.06-.94L8.5 2.5l-.94 2.06-2.06.94zm10 10l.94 2.06.94-2.06 2.06-.94-2.06-.94-.94-2.06-.94 2.06-2.06.94z\"/><path d=\"M17.41 7.96l-1.37-1.37c-.4-.4-.92-.59-1.43-.59-.52 0-1.04.2-1.43.59L10.3 9.45l-7.72 7.72c-.78.78-.78 2.05 0 2.83L4 21.41c.39.39.9.59 1.41.59.51 0 1.02-.2 1.41-.59l7.78-7.78 2.81-2.81c.8-.78.8-2.07 0-2.86zM5.41 20L4 18.59l7.72-7.72 1.47 1.35L5.41 20z\"/>\n",
              "  </svg>\n",
              "      </button>\n",
              "      \n",
              "  <style>\n",
              "    .colab-df-container {\n",
              "      display:flex;\n",
              "      flex-wrap:wrap;\n",
              "      gap: 12px;\n",
              "    }\n",
              "\n",
              "    .colab-df-convert {\n",
              "      background-color: #E8F0FE;\n",
              "      border: none;\n",
              "      border-radius: 50%;\n",
              "      cursor: pointer;\n",
              "      display: none;\n",
              "      fill: #1967D2;\n",
              "      height: 32px;\n",
              "      padding: 0 0 0 0;\n",
              "      width: 32px;\n",
              "    }\n",
              "\n",
              "    .colab-df-convert:hover {\n",
              "      background-color: #E2EBFA;\n",
              "      box-shadow: 0px 1px 2px rgba(60, 64, 67, 0.3), 0px 1px 3px 1px rgba(60, 64, 67, 0.15);\n",
              "      fill: #174EA6;\n",
              "    }\n",
              "\n",
              "    [theme=dark] .colab-df-convert {\n",
              "      background-color: #3B4455;\n",
              "      fill: #D2E3FC;\n",
              "    }\n",
              "\n",
              "    [theme=dark] .colab-df-convert:hover {\n",
              "      background-color: #434B5C;\n",
              "      box-shadow: 0px 1px 3px 1px rgba(0, 0, 0, 0.15);\n",
              "      filter: drop-shadow(0px 1px 2px rgba(0, 0, 0, 0.3));\n",
              "      fill: #FFFFFF;\n",
              "    }\n",
              "  </style>\n",
              "\n",
              "      <script>\n",
              "        const buttonEl =\n",
              "          document.querySelector('#df-8879700d-570a-4501-aa90-115510c27ff7 button.colab-df-convert');\n",
              "        buttonEl.style.display =\n",
              "          google.colab.kernel.accessAllowed ? 'block' : 'none';\n",
              "\n",
              "        async function convertToInteractive(key) {\n",
              "          const element = document.querySelector('#df-8879700d-570a-4501-aa90-115510c27ff7');\n",
              "          const dataTable =\n",
              "            await google.colab.kernel.invokeFunction('convertToInteractive',\n",
              "                                                     [key], {});\n",
              "          if (!dataTable) return;\n",
              "\n",
              "          const docLinkHtml = 'Like what you see? Visit the ' +\n",
              "            '<a target=\"_blank\" href=https://colab.research.google.com/notebooks/data_table.ipynb>data table notebook</a>'\n",
              "            + ' to learn more about interactive tables.';\n",
              "          element.innerHTML = '';\n",
              "          dataTable['output_type'] = 'display_data';\n",
              "          await google.colab.output.renderOutput(dataTable, element);\n",
              "          const docLink = document.createElement('div');\n",
              "          docLink.innerHTML = docLinkHtml;\n",
              "          element.appendChild(docLink);\n",
              "        }\n",
              "      </script>\n",
              "    </div>\n",
              "  </div>\n",
              "  "
            ]
          },
          "metadata": {},
          "execution_count": 46
        }
      ]
    },
    {
      "cell_type": "code",
      "source": [
        "drop_cols = ['budget']\n",
        "df = df.drop(drop_cols,axis=1)"
      ],
      "metadata": {
        "id": "U5XHuUbbmUJ3"
      },
      "execution_count": 47,
      "outputs": []
    },
    {
      "cell_type": "code",
      "source": [
        "status_map = {\n",
        "    'WON' : 1,\n",
        "    \"LOST\" : 0\n",
        "}\n",
        "df['status'] = df['status'].map(status_map)"
      ],
      "metadata": {
        "id": "SvvUhm38mezj"
      },
      "execution_count": 48,
      "outputs": []
    },
    {
      "cell_type": "code",
      "source": [
        "df.head()"
      ],
      "metadata": {
        "colab": {
          "base_uri": "https://localhost:8080/",
          "height": 322
        },
        "id": "7eCSS5Hem3BL",
        "outputId": "36f0bfc8-c288-4cd3-923d-9fbfe42310b6"
      },
      "execution_count": 49,
      "outputs": [
        {
          "output_type": "execute_result",
          "data": {
            "text/plain": [
              "   status     lost_reason  duration  \\\n",
              "0       0     no_response        -1   \n",
              "1       0  not_interested        51   \n",
              "2       1   not mentioned         0   \n",
              "3       0     no_response        24   \n",
              "4       0            junk        42   \n",
              "\n",
              "                                              source  \\\n",
              "0  9b2d5b4678781e53038e91ea5324530a03f27dc1d0e5f6...   \n",
              "1  7aae3e886e89fc1187a5c47d6cea1c22998ee610ade1f2...   \n",
              "2  ba2d0a29556ac20f86f45e4543c0825428cba33fd7a9ea...   \n",
              "3  7bcfca0e9d73371699b0adbf1c691e02108fa64f02f4db...   \n",
              "4  7aae3e886e89fc1187a5c47d6cea1c22998ee610ade1f2...   \n",
              "\n",
              "                                         source_city  \\\n",
              "0  9b2d5b4678781e53038e91ea5324530a03f27dc1d0e5f6...   \n",
              "1                                      not mentioned   \n",
              "2                                      not mentioned   \n",
              "3                                      not mentioned   \n",
              "4                                      not mentioned   \n",
              "\n",
              "                                      source_country  \\\n",
              "0  9b2d5b4678781e53038e91ea5324530a03f27dc1d0e5f6...   \n",
              "1  e09e10e67812e9d236ad900e5d46b4308fc62f5d69446a...   \n",
              "2  e09e10e67812e9d236ad900e5d46b4308fc62f5d69446a...   \n",
              "3  e09e10e67812e9d236ad900e5d46b4308fc62f5d69446a...   \n",
              "4  c2863266ba318106a050f6f52c0a0e5ee19bdbacc19c09...   \n",
              "\n",
              "                                          utm_source  \\\n",
              "0  3d59f7548e1af2151b64135003ce63c0a484c26b9b8b16...   \n",
              "1  bbdefa2950f49882f295b1285d4fa9dec45fc4144bfb07...   \n",
              "2  9ac56ef275bb33f0f931abd846e53e845a80af8a549100...   \n",
              "3  bbdefa2950f49882f295b1285d4fa9dec45fc4144bfb07...   \n",
              "4  bbdefa2950f49882f295b1285d4fa9dec45fc4144bfb07...   \n",
              "\n",
              "                                          utm_medium  \\\n",
              "0  268ad70eb5bc4737a2ae28162cbca30118cc94520e49ef...   \n",
              "1  09076eb7665d1fb9389c7c4517fee0b00e43092eb34821...   \n",
              "2  82244417f956ac7c599f191593f7e441a4fafa20a4158f...   \n",
              "3  09076eb7665d1fb9389c7c4517fee0b00e43092eb34821...   \n",
              "4  09076eb7665d1fb9389c7c4517fee0b00e43092eb34821...   \n",
              "\n",
              "                                            des_city  \\\n",
              "0  ecc0e7dc084f141b29479058967d0bc07dee25d9690a98...   \n",
              "1  11ab03a1a8c367191355c152f39fe28cae5e426fce49ef...   \n",
              "2  810c069040f6a9b16fdf976a901755508a87cb0224b169...   \n",
              "3                                      not mentioned   \n",
              "4  810c069040f6a9b16fdf976a901755508a87cb0224b169...   \n",
              "\n",
              "                                         des_country      room_type  \\\n",
              "0  8d23a6e37e0a6431a8f1b43a91026dcff51170a89a6512...  not mentioned   \n",
              "1  8d23a6e37e0a6431a8f1b43a91026dcff51170a89a6512...        Ensuite   \n",
              "2  8d23a6e37e0a6431a8f1b43a91026dcff51170a89a6512...  not mentioned   \n",
              "3  8d23a6e37e0a6431a8f1b43a91026dcff51170a89a6512...  not mentioned   \n",
              "4  8d23a6e37e0a6431a8f1b43a91026dcff51170a89a6512...         Studio   \n",
              "\n",
              "   min_budget  max_budget  \n",
              "0          -1          -1  \n",
              "1         121         180  \n",
              "2           0           0  \n",
              "3           0           0  \n",
              "4         181         240  "
            ],
            "text/html": [
              "\n",
              "  <div id=\"df-01f103c4-1ce9-4946-8a76-7862598eef5a\">\n",
              "    <div class=\"colab-df-container\">\n",
              "      <div>\n",
              "<style scoped>\n",
              "    .dataframe tbody tr th:only-of-type {\n",
              "        vertical-align: middle;\n",
              "    }\n",
              "\n",
              "    .dataframe tbody tr th {\n",
              "        vertical-align: top;\n",
              "    }\n",
              "\n",
              "    .dataframe thead th {\n",
              "        text-align: right;\n",
              "    }\n",
              "</style>\n",
              "<table border=\"1\" class=\"dataframe\">\n",
              "  <thead>\n",
              "    <tr style=\"text-align: right;\">\n",
              "      <th></th>\n",
              "      <th>status</th>\n",
              "      <th>lost_reason</th>\n",
              "      <th>duration</th>\n",
              "      <th>source</th>\n",
              "      <th>source_city</th>\n",
              "      <th>source_country</th>\n",
              "      <th>utm_source</th>\n",
              "      <th>utm_medium</th>\n",
              "      <th>des_city</th>\n",
              "      <th>des_country</th>\n",
              "      <th>room_type</th>\n",
              "      <th>min_budget</th>\n",
              "      <th>max_budget</th>\n",
              "    </tr>\n",
              "  </thead>\n",
              "  <tbody>\n",
              "    <tr>\n",
              "      <th>0</th>\n",
              "      <td>0</td>\n",
              "      <td>no_response</td>\n",
              "      <td>-1</td>\n",
              "      <td>9b2d5b4678781e53038e91ea5324530a03f27dc1d0e5f6...</td>\n",
              "      <td>9b2d5b4678781e53038e91ea5324530a03f27dc1d0e5f6...</td>\n",
              "      <td>9b2d5b4678781e53038e91ea5324530a03f27dc1d0e5f6...</td>\n",
              "      <td>3d59f7548e1af2151b64135003ce63c0a484c26b9b8b16...</td>\n",
              "      <td>268ad70eb5bc4737a2ae28162cbca30118cc94520e49ef...</td>\n",
              "      <td>ecc0e7dc084f141b29479058967d0bc07dee25d9690a98...</td>\n",
              "      <td>8d23a6e37e0a6431a8f1b43a91026dcff51170a89a6512...</td>\n",
              "      <td>not mentioned</td>\n",
              "      <td>-1</td>\n",
              "      <td>-1</td>\n",
              "    </tr>\n",
              "    <tr>\n",
              "      <th>1</th>\n",
              "      <td>0</td>\n",
              "      <td>not_interested</td>\n",
              "      <td>51</td>\n",
              "      <td>7aae3e886e89fc1187a5c47d6cea1c22998ee610ade1f2...</td>\n",
              "      <td>not mentioned</td>\n",
              "      <td>e09e10e67812e9d236ad900e5d46b4308fc62f5d69446a...</td>\n",
              "      <td>bbdefa2950f49882f295b1285d4fa9dec45fc4144bfb07...</td>\n",
              "      <td>09076eb7665d1fb9389c7c4517fee0b00e43092eb34821...</td>\n",
              "      <td>11ab03a1a8c367191355c152f39fe28cae5e426fce49ef...</td>\n",
              "      <td>8d23a6e37e0a6431a8f1b43a91026dcff51170a89a6512...</td>\n",
              "      <td>Ensuite</td>\n",
              "      <td>121</td>\n",
              "      <td>180</td>\n",
              "    </tr>\n",
              "    <tr>\n",
              "      <th>2</th>\n",
              "      <td>1</td>\n",
              "      <td>not mentioned</td>\n",
              "      <td>0</td>\n",
              "      <td>ba2d0a29556ac20f86f45e4543c0825428cba33fd7a9ea...</td>\n",
              "      <td>not mentioned</td>\n",
              "      <td>e09e10e67812e9d236ad900e5d46b4308fc62f5d69446a...</td>\n",
              "      <td>9ac56ef275bb33f0f931abd846e53e845a80af8a549100...</td>\n",
              "      <td>82244417f956ac7c599f191593f7e441a4fafa20a4158f...</td>\n",
              "      <td>810c069040f6a9b16fdf976a901755508a87cb0224b169...</td>\n",
              "      <td>8d23a6e37e0a6431a8f1b43a91026dcff51170a89a6512...</td>\n",
              "      <td>not mentioned</td>\n",
              "      <td>0</td>\n",
              "      <td>0</td>\n",
              "    </tr>\n",
              "    <tr>\n",
              "      <th>3</th>\n",
              "      <td>0</td>\n",
              "      <td>no_response</td>\n",
              "      <td>24</td>\n",
              "      <td>7bcfca0e9d73371699b0adbf1c691e02108fa64f02f4db...</td>\n",
              "      <td>not mentioned</td>\n",
              "      <td>e09e10e67812e9d236ad900e5d46b4308fc62f5d69446a...</td>\n",
              "      <td>bbdefa2950f49882f295b1285d4fa9dec45fc4144bfb07...</td>\n",
              "      <td>09076eb7665d1fb9389c7c4517fee0b00e43092eb34821...</td>\n",
              "      <td>not mentioned</td>\n",
              "      <td>8d23a6e37e0a6431a8f1b43a91026dcff51170a89a6512...</td>\n",
              "      <td>not mentioned</td>\n",
              "      <td>0</td>\n",
              "      <td>0</td>\n",
              "    </tr>\n",
              "    <tr>\n",
              "      <th>4</th>\n",
              "      <td>0</td>\n",
              "      <td>junk</td>\n",
              "      <td>42</td>\n",
              "      <td>7aae3e886e89fc1187a5c47d6cea1c22998ee610ade1f2...</td>\n",
              "      <td>not mentioned</td>\n",
              "      <td>c2863266ba318106a050f6f52c0a0e5ee19bdbacc19c09...</td>\n",
              "      <td>bbdefa2950f49882f295b1285d4fa9dec45fc4144bfb07...</td>\n",
              "      <td>09076eb7665d1fb9389c7c4517fee0b00e43092eb34821...</td>\n",
              "      <td>810c069040f6a9b16fdf976a901755508a87cb0224b169...</td>\n",
              "      <td>8d23a6e37e0a6431a8f1b43a91026dcff51170a89a6512...</td>\n",
              "      <td>Studio</td>\n",
              "      <td>181</td>\n",
              "      <td>240</td>\n",
              "    </tr>\n",
              "  </tbody>\n",
              "</table>\n",
              "</div>\n",
              "      <button class=\"colab-df-convert\" onclick=\"convertToInteractive('df-01f103c4-1ce9-4946-8a76-7862598eef5a')\"\n",
              "              title=\"Convert this dataframe to an interactive table.\"\n",
              "              style=\"display:none;\">\n",
              "        \n",
              "  <svg xmlns=\"http://www.w3.org/2000/svg\" height=\"24px\"viewBox=\"0 0 24 24\"\n",
              "       width=\"24px\">\n",
              "    <path d=\"M0 0h24v24H0V0z\" fill=\"none\"/>\n",
              "    <path d=\"M18.56 5.44l.94 2.06.94-2.06 2.06-.94-2.06-.94-.94-2.06-.94 2.06-2.06.94zm-11 1L8.5 8.5l.94-2.06 2.06-.94-2.06-.94L8.5 2.5l-.94 2.06-2.06.94zm10 10l.94 2.06.94-2.06 2.06-.94-2.06-.94-.94-2.06-.94 2.06-2.06.94z\"/><path d=\"M17.41 7.96l-1.37-1.37c-.4-.4-.92-.59-1.43-.59-.52 0-1.04.2-1.43.59L10.3 9.45l-7.72 7.72c-.78.78-.78 2.05 0 2.83L4 21.41c.39.39.9.59 1.41.59.51 0 1.02-.2 1.41-.59l7.78-7.78 2.81-2.81c.8-.78.8-2.07 0-2.86zM5.41 20L4 18.59l7.72-7.72 1.47 1.35L5.41 20z\"/>\n",
              "  </svg>\n",
              "      </button>\n",
              "      \n",
              "  <style>\n",
              "    .colab-df-container {\n",
              "      display:flex;\n",
              "      flex-wrap:wrap;\n",
              "      gap: 12px;\n",
              "    }\n",
              "\n",
              "    .colab-df-convert {\n",
              "      background-color: #E8F0FE;\n",
              "      border: none;\n",
              "      border-radius: 50%;\n",
              "      cursor: pointer;\n",
              "      display: none;\n",
              "      fill: #1967D2;\n",
              "      height: 32px;\n",
              "      padding: 0 0 0 0;\n",
              "      width: 32px;\n",
              "    }\n",
              "\n",
              "    .colab-df-convert:hover {\n",
              "      background-color: #E2EBFA;\n",
              "      box-shadow: 0px 1px 2px rgba(60, 64, 67, 0.3), 0px 1px 3px 1px rgba(60, 64, 67, 0.15);\n",
              "      fill: #174EA6;\n",
              "    }\n",
              "\n",
              "    [theme=dark] .colab-df-convert {\n",
              "      background-color: #3B4455;\n",
              "      fill: #D2E3FC;\n",
              "    }\n",
              "\n",
              "    [theme=dark] .colab-df-convert:hover {\n",
              "      background-color: #434B5C;\n",
              "      box-shadow: 0px 1px 3px 1px rgba(0, 0, 0, 0.15);\n",
              "      filter: drop-shadow(0px 1px 2px rgba(0, 0, 0, 0.3));\n",
              "      fill: #FFFFFF;\n",
              "    }\n",
              "  </style>\n",
              "\n",
              "      <script>\n",
              "        const buttonEl =\n",
              "          document.querySelector('#df-01f103c4-1ce9-4946-8a76-7862598eef5a button.colab-df-convert');\n",
              "        buttonEl.style.display =\n",
              "          google.colab.kernel.accessAllowed ? 'block' : 'none';\n",
              "\n",
              "        async function convertToInteractive(key) {\n",
              "          const element = document.querySelector('#df-01f103c4-1ce9-4946-8a76-7862598eef5a');\n",
              "          const dataTable =\n",
              "            await google.colab.kernel.invokeFunction('convertToInteractive',\n",
              "                                                     [key], {});\n",
              "          if (!dataTable) return;\n",
              "\n",
              "          const docLinkHtml = 'Like what you see? Visit the ' +\n",
              "            '<a target=\"_blank\" href=https://colab.research.google.com/notebooks/data_table.ipynb>data table notebook</a>'\n",
              "            + ' to learn more about interactive tables.';\n",
              "          element.innerHTML = '';\n",
              "          dataTable['output_type'] = 'display_data';\n",
              "          await google.colab.output.renderOutput(dataTable, element);\n",
              "          const docLink = document.createElement('div');\n",
              "          docLink.innerHTML = docLinkHtml;\n",
              "          element.appendChild(docLink);\n",
              "        }\n",
              "      </script>\n",
              "    </div>\n",
              "  </div>\n",
              "  "
            ]
          },
          "metadata": {},
          "execution_count": 49
        }
      ]
    },
    {
      "cell_type": "code",
      "source": [
        "X = df.drop('status',axis=1)\n",
        "y = df['status']"
      ],
      "metadata": {
        "id": "L-HYEqprm5qj"
      },
      "execution_count": 50,
      "outputs": []
    },
    {
      "cell_type": "code",
      "source": [
        "X.columns"
      ],
      "metadata": {
        "colab": {
          "base_uri": "https://localhost:8080/"
        },
        "id": "5co_LpEvoaLO",
        "outputId": "2aef2738-1b58-48eb-89f3-45b662e6d315"
      },
      "execution_count": 51,
      "outputs": [
        {
          "output_type": "execute_result",
          "data": {
            "text/plain": [
              "Index(['lost_reason', 'duration', 'source', 'source_city', 'source_country',\n",
              "       'utm_source', 'utm_medium', 'des_city', 'des_country', 'room_type',\n",
              "       'min_budget', 'max_budget'],\n",
              "      dtype='object')"
            ]
          },
          "metadata": {},
          "execution_count": 51
        }
      ]
    },
    {
      "cell_type": "code",
      "source": [
        "cat_cols = ['lost_reason', 'source', 'source_city', 'source_country','utm_source', 'utm_medium', 'des_city', 'des_country', 'room_type']"
      ],
      "metadata": {
        "id": "r7T59B72nuzh"
      },
      "execution_count": 52,
      "outputs": []
    },
    {
      "cell_type": "code",
      "source": [
        "from sklearn.preprocessing import LabelEncoder\n",
        "le_dict = {}\n",
        "for col in cat_cols:\n",
        "  le = LabelEncoder()\n",
        "  encoded = le.fit_transform(X[col])\n",
        "  X[col] = encoded\n",
        "  le_dict[col] = le"
      ],
      "metadata": {
        "id": "5KyG-ppnoiIu"
      },
      "execution_count": 53,
      "outputs": []
    },
    {
      "cell_type": "code",
      "source": [
        "X"
      ],
      "metadata": {
        "colab": {
          "base_uri": "https://localhost:8080/",
          "height": 423
        },
        "id": "8rN3qQSDo8AV",
        "outputId": "0caa3f2a-773a-460b-f552-80db45e49d1c"
      },
      "execution_count": 54,
      "outputs": [
        {
          "output_type": "execute_result",
          "data": {
            "text/plain": [
              "       lost_reason  duration  source  source_city  source_country  utm_source  \\\n",
              "0                5        -1       3            5               3           1   \n",
              "1                7        51       1            9               6           6   \n",
              "2                6         0       7            9               6           5   \n",
              "3                5        24       2            9               6           6   \n",
              "4                3        42       1            9               5           6   \n",
              "...            ...       ...     ...          ...             ...         ...   \n",
              "46312            3        51       1            9               1           6   \n",
              "46313            8         0       7            3               2           6   \n",
              "46314            1        51       9            9               2           6   \n",
              "46315            1        42       1            9               6           6   \n",
              "46316            8        22       1            9               9           6   \n",
              "\n",
              "       utm_medium  des_city  des_country  room_type  min_budget  max_budget  \n",
              "0               3         8            5          3          -1          -1  \n",
              "1               1         0            5          0         121         180  \n",
              "2               6         3            5          3           0           0  \n",
              "3               1         9            5          3           0           0  \n",
              "4               1         3            5          2         181         240  \n",
              "...           ...       ...          ...        ...         ...         ...  \n",
              "46312           1         8            5          0          60         120  \n",
              "46313           1         9            5          3           0           0  \n",
              "46314           1         8            5          3         200         200  \n",
              "46315           1         8            5          0         121         180  \n",
              "46316           1         3            5          0          60         120  \n",
              "\n",
              "[46317 rows x 12 columns]"
            ],
            "text/html": [
              "\n",
              "  <div id=\"df-702d4559-3166-4b44-8159-36e7ce683c1b\">\n",
              "    <div class=\"colab-df-container\">\n",
              "      <div>\n",
              "<style scoped>\n",
              "    .dataframe tbody tr th:only-of-type {\n",
              "        vertical-align: middle;\n",
              "    }\n",
              "\n",
              "    .dataframe tbody tr th {\n",
              "        vertical-align: top;\n",
              "    }\n",
              "\n",
              "    .dataframe thead th {\n",
              "        text-align: right;\n",
              "    }\n",
              "</style>\n",
              "<table border=\"1\" class=\"dataframe\">\n",
              "  <thead>\n",
              "    <tr style=\"text-align: right;\">\n",
              "      <th></th>\n",
              "      <th>lost_reason</th>\n",
              "      <th>duration</th>\n",
              "      <th>source</th>\n",
              "      <th>source_city</th>\n",
              "      <th>source_country</th>\n",
              "      <th>utm_source</th>\n",
              "      <th>utm_medium</th>\n",
              "      <th>des_city</th>\n",
              "      <th>des_country</th>\n",
              "      <th>room_type</th>\n",
              "      <th>min_budget</th>\n",
              "      <th>max_budget</th>\n",
              "    </tr>\n",
              "  </thead>\n",
              "  <tbody>\n",
              "    <tr>\n",
              "      <th>0</th>\n",
              "      <td>5</td>\n",
              "      <td>-1</td>\n",
              "      <td>3</td>\n",
              "      <td>5</td>\n",
              "      <td>3</td>\n",
              "      <td>1</td>\n",
              "      <td>3</td>\n",
              "      <td>8</td>\n",
              "      <td>5</td>\n",
              "      <td>3</td>\n",
              "      <td>-1</td>\n",
              "      <td>-1</td>\n",
              "    </tr>\n",
              "    <tr>\n",
              "      <th>1</th>\n",
              "      <td>7</td>\n",
              "      <td>51</td>\n",
              "      <td>1</td>\n",
              "      <td>9</td>\n",
              "      <td>6</td>\n",
              "      <td>6</td>\n",
              "      <td>1</td>\n",
              "      <td>0</td>\n",
              "      <td>5</td>\n",
              "      <td>0</td>\n",
              "      <td>121</td>\n",
              "      <td>180</td>\n",
              "    </tr>\n",
              "    <tr>\n",
              "      <th>2</th>\n",
              "      <td>6</td>\n",
              "      <td>0</td>\n",
              "      <td>7</td>\n",
              "      <td>9</td>\n",
              "      <td>6</td>\n",
              "      <td>5</td>\n",
              "      <td>6</td>\n",
              "      <td>3</td>\n",
              "      <td>5</td>\n",
              "      <td>3</td>\n",
              "      <td>0</td>\n",
              "      <td>0</td>\n",
              "    </tr>\n",
              "    <tr>\n",
              "      <th>3</th>\n",
              "      <td>5</td>\n",
              "      <td>24</td>\n",
              "      <td>2</td>\n",
              "      <td>9</td>\n",
              "      <td>6</td>\n",
              "      <td>6</td>\n",
              "      <td>1</td>\n",
              "      <td>9</td>\n",
              "      <td>5</td>\n",
              "      <td>3</td>\n",
              "      <td>0</td>\n",
              "      <td>0</td>\n",
              "    </tr>\n",
              "    <tr>\n",
              "      <th>4</th>\n",
              "      <td>3</td>\n",
              "      <td>42</td>\n",
              "      <td>1</td>\n",
              "      <td>9</td>\n",
              "      <td>5</td>\n",
              "      <td>6</td>\n",
              "      <td>1</td>\n",
              "      <td>3</td>\n",
              "      <td>5</td>\n",
              "      <td>2</td>\n",
              "      <td>181</td>\n",
              "      <td>240</td>\n",
              "    </tr>\n",
              "    <tr>\n",
              "      <th>...</th>\n",
              "      <td>...</td>\n",
              "      <td>...</td>\n",
              "      <td>...</td>\n",
              "      <td>...</td>\n",
              "      <td>...</td>\n",
              "      <td>...</td>\n",
              "      <td>...</td>\n",
              "      <td>...</td>\n",
              "      <td>...</td>\n",
              "      <td>...</td>\n",
              "      <td>...</td>\n",
              "      <td>...</td>\n",
              "    </tr>\n",
              "    <tr>\n",
              "      <th>46312</th>\n",
              "      <td>3</td>\n",
              "      <td>51</td>\n",
              "      <td>1</td>\n",
              "      <td>9</td>\n",
              "      <td>1</td>\n",
              "      <td>6</td>\n",
              "      <td>1</td>\n",
              "      <td>8</td>\n",
              "      <td>5</td>\n",
              "      <td>0</td>\n",
              "      <td>60</td>\n",
              "      <td>120</td>\n",
              "    </tr>\n",
              "    <tr>\n",
              "      <th>46313</th>\n",
              "      <td>8</td>\n",
              "      <td>0</td>\n",
              "      <td>7</td>\n",
              "      <td>3</td>\n",
              "      <td>2</td>\n",
              "      <td>6</td>\n",
              "      <td>1</td>\n",
              "      <td>9</td>\n",
              "      <td>5</td>\n",
              "      <td>3</td>\n",
              "      <td>0</td>\n",
              "      <td>0</td>\n",
              "    </tr>\n",
              "    <tr>\n",
              "      <th>46314</th>\n",
              "      <td>1</td>\n",
              "      <td>51</td>\n",
              "      <td>9</td>\n",
              "      <td>9</td>\n",
              "      <td>2</td>\n",
              "      <td>6</td>\n",
              "      <td>1</td>\n",
              "      <td>8</td>\n",
              "      <td>5</td>\n",
              "      <td>3</td>\n",
              "      <td>200</td>\n",
              "      <td>200</td>\n",
              "    </tr>\n",
              "    <tr>\n",
              "      <th>46315</th>\n",
              "      <td>1</td>\n",
              "      <td>42</td>\n",
              "      <td>1</td>\n",
              "      <td>9</td>\n",
              "      <td>6</td>\n",
              "      <td>6</td>\n",
              "      <td>1</td>\n",
              "      <td>8</td>\n",
              "      <td>5</td>\n",
              "      <td>0</td>\n",
              "      <td>121</td>\n",
              "      <td>180</td>\n",
              "    </tr>\n",
              "    <tr>\n",
              "      <th>46316</th>\n",
              "      <td>8</td>\n",
              "      <td>22</td>\n",
              "      <td>1</td>\n",
              "      <td>9</td>\n",
              "      <td>9</td>\n",
              "      <td>6</td>\n",
              "      <td>1</td>\n",
              "      <td>3</td>\n",
              "      <td>5</td>\n",
              "      <td>0</td>\n",
              "      <td>60</td>\n",
              "      <td>120</td>\n",
              "    </tr>\n",
              "  </tbody>\n",
              "</table>\n",
              "<p>46317 rows × 12 columns</p>\n",
              "</div>\n",
              "      <button class=\"colab-df-convert\" onclick=\"convertToInteractive('df-702d4559-3166-4b44-8159-36e7ce683c1b')\"\n",
              "              title=\"Convert this dataframe to an interactive table.\"\n",
              "              style=\"display:none;\">\n",
              "        \n",
              "  <svg xmlns=\"http://www.w3.org/2000/svg\" height=\"24px\"viewBox=\"0 0 24 24\"\n",
              "       width=\"24px\">\n",
              "    <path d=\"M0 0h24v24H0V0z\" fill=\"none\"/>\n",
              "    <path d=\"M18.56 5.44l.94 2.06.94-2.06 2.06-.94-2.06-.94-.94-2.06-.94 2.06-2.06.94zm-11 1L8.5 8.5l.94-2.06 2.06-.94-2.06-.94L8.5 2.5l-.94 2.06-2.06.94zm10 10l.94 2.06.94-2.06 2.06-.94-2.06-.94-.94-2.06-.94 2.06-2.06.94z\"/><path d=\"M17.41 7.96l-1.37-1.37c-.4-.4-.92-.59-1.43-.59-.52 0-1.04.2-1.43.59L10.3 9.45l-7.72 7.72c-.78.78-.78 2.05 0 2.83L4 21.41c.39.39.9.59 1.41.59.51 0 1.02-.2 1.41-.59l7.78-7.78 2.81-2.81c.8-.78.8-2.07 0-2.86zM5.41 20L4 18.59l7.72-7.72 1.47 1.35L5.41 20z\"/>\n",
              "  </svg>\n",
              "      </button>\n",
              "      \n",
              "  <style>\n",
              "    .colab-df-container {\n",
              "      display:flex;\n",
              "      flex-wrap:wrap;\n",
              "      gap: 12px;\n",
              "    }\n",
              "\n",
              "    .colab-df-convert {\n",
              "      background-color: #E8F0FE;\n",
              "      border: none;\n",
              "      border-radius: 50%;\n",
              "      cursor: pointer;\n",
              "      display: none;\n",
              "      fill: #1967D2;\n",
              "      height: 32px;\n",
              "      padding: 0 0 0 0;\n",
              "      width: 32px;\n",
              "    }\n",
              "\n",
              "    .colab-df-convert:hover {\n",
              "      background-color: #E2EBFA;\n",
              "      box-shadow: 0px 1px 2px rgba(60, 64, 67, 0.3), 0px 1px 3px 1px rgba(60, 64, 67, 0.15);\n",
              "      fill: #174EA6;\n",
              "    }\n",
              "\n",
              "    [theme=dark] .colab-df-convert {\n",
              "      background-color: #3B4455;\n",
              "      fill: #D2E3FC;\n",
              "    }\n",
              "\n",
              "    [theme=dark] .colab-df-convert:hover {\n",
              "      background-color: #434B5C;\n",
              "      box-shadow: 0px 1px 3px 1px rgba(0, 0, 0, 0.15);\n",
              "      filter: drop-shadow(0px 1px 2px rgba(0, 0, 0, 0.3));\n",
              "      fill: #FFFFFF;\n",
              "    }\n",
              "  </style>\n",
              "\n",
              "      <script>\n",
              "        const buttonEl =\n",
              "          document.querySelector('#df-702d4559-3166-4b44-8159-36e7ce683c1b button.colab-df-convert');\n",
              "        buttonEl.style.display =\n",
              "          google.colab.kernel.accessAllowed ? 'block' : 'none';\n",
              "\n",
              "        async function convertToInteractive(key) {\n",
              "          const element = document.querySelector('#df-702d4559-3166-4b44-8159-36e7ce683c1b');\n",
              "          const dataTable =\n",
              "            await google.colab.kernel.invokeFunction('convertToInteractive',\n",
              "                                                     [key], {});\n",
              "          if (!dataTable) return;\n",
              "\n",
              "          const docLinkHtml = 'Like what you see? Visit the ' +\n",
              "            '<a target=\"_blank\" href=https://colab.research.google.com/notebooks/data_table.ipynb>data table notebook</a>'\n",
              "            + ' to learn more about interactive tables.';\n",
              "          element.innerHTML = '';\n",
              "          dataTable['output_type'] = 'display_data';\n",
              "          await google.colab.output.renderOutput(dataTable, element);\n",
              "          const docLink = document.createElement('div');\n",
              "          docLink.innerHTML = docLinkHtml;\n",
              "          element.appendChild(docLink);\n",
              "        }\n",
              "      </script>\n",
              "    </div>\n",
              "  </div>\n",
              "  "
            ]
          },
          "metadata": {},
          "execution_count": 54
        }
      ]
    },
    {
      "cell_type": "code",
      "source": [
        "sns.heatmap(X.corr(),annot=True)"
      ],
      "metadata": {
        "colab": {
          "base_uri": "https://localhost:8080/",
          "height": 544
        },
        "id": "xeNspz4Qo9Cz",
        "outputId": "fbe2d555-36d7-402d-c7fc-0586a1d0291c"
      },
      "execution_count": 55,
      "outputs": [
        {
          "output_type": "execute_result",
          "data": {
            "text/plain": [
              "<Axes: >"
            ]
          },
          "metadata": {},
          "execution_count": 55
        },
        {
          "output_type": "display_data",
          "data": {
            "text/plain": [
              "<Figure size 640x480 with 2 Axes>"
            ],
            "image/png": "[encoded data removed]"
          },
          "metadata": {}
        }
      ]
    },
    {
      "cell_type": "code",
      "source": [
        "from sklearn.model_selection import train_test_split"
      ],
      "metadata": {
        "id": "naLJR6aipm6W"
      },
      "execution_count": 56,
      "outputs": []
    },
    {
      "cell_type": "code",
      "source": [
        "X_train, X_test, y_train, y_test = train_test_split(X, y, test_size=0.33, random_state=42)"
      ],
      "metadata": {
        "id": "3H2sftmupsfw"
      },
      "execution_count": 57,
      "outputs": []
    },
    {
      "cell_type": "code",
      "source": [
        "from sklearn.linear_model import LogisticRegression\n",
        "lr = LogisticRegression()\n",
        "lr.fit(X_train,y_train)"
      ],
      "metadata": {
        "colab": {
          "base_uri": "https://localhost:8080/",
          "height": 213
        },
        "id": "hUXUJ8QBpB--",
        "outputId": "8142be2a-f91b-4589-bf7e-2cfbb6019569"
      },
      "execution_count": 58,
      "outputs": [
        {
          "output_type": "stream",
          "name": "stderr",
          "text": [
            "/usr/local/lib/python3.10/dist-packages/sklearn/linear_model/_logistic.py:458: ConvergenceWarning: lbfgs failed to converge (status=1):\n",
            "STOP: TOTAL NO. of ITERATIONS REACHED LIMIT.\n",
            "\n",
            "Increase the number of iterations (max_iter) or scale the data as shown in:\n",
            "    https://scikit-learn.org/stable/modules/preprocessing.html\n",
            "Please also refer to the documentation for alternative solver options:\n",
            "    https://scikit-learn.org/stable/modules/linear_model.html#logistic-regression\n",
            "  n_iter_i = _check_optimize_result(\n"
          ]
        },
        {
          "output_type": "execute_result",
          "data": {
            "text/plain": [
              "LogisticRegression()"
            ],
            "text/html": [
              "<style>#sk-container-id-1 {color: black;background-color: white;}#sk-container-id-1 pre{padding: 0;}#sk-container-id-1 div.sk-toggleable {background-color: white;}#sk-container-id-1 label.sk-toggleable__label {cursor: pointer;display: block;width: 100%;margin-bottom: 0;padding: 0.3em;box-sizing: border-box;text-align: center;}#sk-container-id-1 label.sk-toggleable__label-arrow:before {content: \"▸\";float: left;margin-right: 0.25em;color: #696969;}#sk-container-id-1 label.sk-toggleable__label-arrow:hover:before {color: black;}#sk-container-id-1 div.sk-estimator:hover label.sk-toggleable__label-arrow:before {color: black;}#sk-container-id-1 div.sk-toggleable__content {max-height: 0;max-width: 0;overflow: hidden;text-align: left;background-color: #f0f8ff;}#sk-container-id-1 div.sk-toggleable__content pre {margin: 0.2em;color: black;border-radius: 0.25em;background-color: #f0f8ff;}#sk-container-id-1 input.sk-toggleable__control:checked~div.sk-toggleable__content {max-height: 200px;max-width: 100%;overflow: auto;}#sk-container-id-1 input.sk-toggleable__control:checked~label.sk-toggleable__label-arrow:before {content: \"▾\";}#sk-container-id-1 div.sk-estimator input.sk-toggleable__control:checked~label.sk-toggleable__label {background-color: #d4ebff;}#sk-container-id-1 div.sk-label input.sk-toggleable__control:checked~label.sk-toggleable__label {background-color: #d4ebff;}#sk-container-id-1 input.sk-hidden--visually {border: 0;clip: rect(1px 1px 1px 1px);clip: rect(1px, 1px, 1px, 1px);height: 1px;margin: -1px;overflow: hidden;padding: 0;position: absolute;width: 1px;}#sk-container-id-1 div.sk-estimator {font-family: monospace;background-color: #f0f8ff;border: 1px dotted black;border-radius: 0.25em;box-sizing: border-box;margin-bottom: 0.5em;}#sk-container-id-1 div.sk-estimator:hover {background-color: #d4ebff;}#sk-container-id-1 div.sk-parallel-item::after {content: \"\";width: 100%;border-bottom: 1px solid gray;flex-grow: 1;}#sk-container-id-1 div.sk-label:hover label.sk-toggleable__label {background-color: #d4ebff;}#sk-container-id-1 div.sk-serial::before {content: \"\";position: absolute;border-left: 1px solid gray;box-sizing: border-box;top: 0;bottom: 0;left: 50%;z-index: 0;}#sk-container-id-1 div.sk-serial {display: flex;flex-direction: column;align-items: center;background-color: white;padding-right: 0.2em;padding-left: 0.2em;position: relative;}#sk-container-id-1 div.sk-item {position: relative;z-index: 1;}#sk-container-id-1 div.sk-parallel {display: flex;align-items: stretch;justify-content: center;background-color: white;position: relative;}#sk-container-id-1 div.sk-item::before, #sk-container-id-1 div.sk-parallel-item::before {content: \"\";position: absolute;border-left: 1px solid gray;box-sizing: border-box;top: 0;bottom: 0;left: 50%;z-index: -1;}#sk-container-id-1 div.sk-parallel-item {display: flex;flex-direction: column;z-index: 1;position: relative;background-color: white;}#sk-container-id-1 div.sk-parallel-item:first-child::after {align-self: flex-end;width: 50%;}#sk-container-id-1 div.sk-parallel-item:last-child::after {align-self: flex-start;width: 50%;}#sk-container-id-1 div.sk-parallel-item:only-child::after {width: 0;}#sk-container-id-1 div.sk-dashed-wrapped {border: 1px dashed gray;margin: 0 0.4em 0.5em 0.4em;box-sizing: border-box;padding-bottom: 0.4em;background-color: white;}#sk-container-id-1 div.sk-label label {font-family: monospace;font-weight: bold;display: inline-block;line-height: 1.2em;}#sk-container-id-1 div.sk-label-container {text-align: center;}#sk-container-id-1 div.sk-container {/* jupyter's `normalize.less` sets `[hidden] { display: none; }` but bootstrap.min.css set `[hidden] { display: none !important; }` so we also need the `!important` here to be able to override the default hidden behavior on the sphinx rendered scikit-learn.org. See: https://github.com/scikit-learn/scikit-learn/issues/21755 */display: inline-block !important;position: relative;}#sk-container-id-1 div.sk-text-repr-fallback {display: none;}</style><div id=\"sk-container-id-1\" class=\"sk-top-container\"><div class=\"sk-text-repr-fallback\"><pre>LogisticRegression()</pre><b>In a Jupyter environment, please rerun this cell to show the HTML representation or trust the notebook. <br />On GitHub, the HTML representation is unable to render, please try loading this page with nbviewer.org.</b></div><div class=\"sk-container\" hidden><div class=\"sk-item\"><div class=\"sk-estimator sk-toggleable\"><input class=\"sk-toggleable__control sk-hidden--visually\" id=\"sk-estimator-id-1\" type=\"checkbox\" checked><label for=\"sk-estimator-id-1\" class=\"sk-toggleable__label sk-toggleable__label-arrow\">LogisticRegression</label><div class=\"sk-toggleable__content\"><pre>LogisticRegression()</pre></div></div></div></div></div>"
            ]
          },
          "metadata": {},
          "execution_count": 58
        }
      ]
    },
    {
      "cell_type": "code",
      "source": [
        "lr.score(X_test,y_test)"
      ],
      "metadata": {
        "colab": {
          "base_uri": "https://localhost:8080/"
        },
        "id": "yhZAE-Fppxeh",
        "outputId": "d710f91f-00cc-43a6-82d5-878cfa62e923"
      },
      "execution_count": 59,
      "outputs": [
        {
          "output_type": "execute_result",
          "data": {
            "text/plain": [
              "0.9335296041871115"
            ]
          },
          "metadata": {},
          "execution_count": 59
        }
      ]
    },
    {
      "cell_type": "code",
      "source": [
        "from sklearn.tree import DecisionTreeClassifier\n",
        "dr = DecisionTreeClassifier()\n",
        "dr.fit(X_train,y_train)\n",
        "dr.score(X_test,y_test)"
      ],
      "metadata": {
        "colab": {
          "base_uri": "https://localhost:8080/"
        },
        "id": "XiffqiqMpyfx",
        "outputId": "278690d0-3c7d-4450-9937-ed50f45c19fb"
      },
      "execution_count": 60,
      "outputs": [
        {
          "output_type": "execute_result",
          "data": {
            "text/plain": [
              "1.0"
            ]
          },
          "metadata": {},
          "execution_count": 60
        }
      ]
    },
    {
      "cell_type": "code",
      "source": [
        "# check_df = pd.read_csv(data_path)\n",
        "# for a,b in check_df['budget'].value_counts().items():\n",
        "#   print(a,\" ===> \",get_budget(a))"
      ],
      "metadata": {
        "id": "9tYYQc3eqaYx"
      },
      "execution_count": 61,
      "outputs": []
    },
    {
      "cell_type": "code",
      "source": [
        "from sklearn.metrics import precision_recall_fscore_support"
      ],
      "metadata": {
        "id": "R-Hfk5u4xe4c"
      },
      "execution_count": 62,
      "outputs": []
    },
    {
      "cell_type": "code",
      "source": [
        "from sklearn.metrics import accuracy_score, recall_score, precision_score, f1_score\n",
        "def compute_metrics(y_true,y_pred):\n",
        "  accuracy = accuracy_score(y_true,y_pred)\n",
        "  recall = recall_score(y_true,y_pred)\n",
        "  precision = precision_score(y_true,y_pred)\n",
        "  f1 = f1_score(y_true,y_pred)\n",
        "  return {\"accuracy\": accuracy, \"precision\": precision, \"recall\": recall, \"f1\": f1}"
      ],
      "metadata": {
        "id": "0Zxy4BjHx72O"
      },
      "execution_count": 63,
      "outputs": []
    },
    {
      "cell_type": "code",
      "source": [
        "y_pred_dr = dr.predict(X_test)\n",
        "precision_recall_fscore_support(y_test,y_pred_dr,average='weighted')"
      ],
      "metadata": {
        "colab": {
          "base_uri": "https://localhost:8080/"
        },
        "id": "CDv2Aiykyy29",
        "outputId": "c0d82273-923e-4d72-a1ac-5e6a17e6aa16"
      },
      "execution_count": 64,
      "outputs": [
        {
          "output_type": "execute_result",
          "data": {
            "text/plain": [
              "(1.0, 1.0, 1.0, None)"
            ]
          },
          "metadata": {},
          "execution_count": 64
        }
      ]
    },
    {
      "cell_type": "code",
      "source": [
        "from sklearn.ensemble import RandomForestClassifier\n",
        "rfc = RandomForestClassifier()\n",
        "rfc.fit(X_train,y_train)\n",
        "y_pred_rfc = rfc.predict(X_test)\n",
        "precision_recall_fscore_support(y_test,y_pred_rfc,average='weighted')"
      ],
      "metadata": {
        "colab": {
          "base_uri": "https://localhost:8080/"
        },
        "id": "MnqHgaGWzKCL",
        "outputId": "8fc4dfd1-f3d0-463e-d87a-aaccc8e94d7a"
      },
      "execution_count": 65,
      "outputs": [
        {
          "output_type": "execute_result",
          "data": {
            "text/plain": [
              "(1.0, 1.0, 1.0, None)"
            ]
          },
          "metadata": {},
          "execution_count": 65
        }
      ]
    },
    {
      "cell_type": "code",
      "source": [
        "compute_metrics(y_test,y_pred_rfc)"
      ],
      "metadata": {
        "colab": {
          "base_uri": "https://localhost:8080/"
        },
        "id": "cXI63Fkk01NQ",
        "outputId": "4a0a4c27-e41c-4bc8-c7df-25b64a2af75c"
      },
      "execution_count": 66,
      "outputs": [
        {
          "output_type": "execute_result",
          "data": {
            "text/plain": [
              "{'accuracy': 1.0, 'precision': 1.0, 'recall': 1.0, 'f1': 1.0}"
            ]
          },
          "metadata": {},
          "execution_count": 66
        }
      ]
    },
    {
      "cell_type": "code",
      "source": [
        "import pickle\n",
        "pickle.dump(rfc,open('final_model.sav','wb'))"
      ],
      "metadata": {
        "id": "7STk37gZ1lQN"
      },
      "execution_count": 67,
      "outputs": []
    },
    {
      "cell_type": "code",
      "source": [
        "preds_prob = rfc.predict_proba(X_test)"
      ],
      "metadata": {
        "id": "t99mmSdG89j-"
      },
      "execution_count": 68,
      "outputs": []
    },
    {
      "cell_type": "code",
      "source": [
        "revmap = {\n",
        "    1 : 'WON',\n",
        "    0 : 'LOST'\n",
        "}"
      ],
      "metadata": {
        "id": "1ZRhfbMP9xUI"
      },
      "execution_count": 69,
      "outputs": []
    },
    {
      "cell_type": "code",
      "source": [
        "preds = rfc.predict(X_test)\n",
        "from sklearn.metrics import confusion_matrix\n",
        "sns.heatmap(confusion_matrix(y_test,preds),annot=True,fmt='g')"
      ],
      "metadata": {
        "colab": {
          "base_uri": "https://localhost:8080/",
          "height": 447
        },
        "id": "q5d3Y05t_Hr5",
        "outputId": "8f247a82-fe42-49d3-f25a-c8265e8fdeeb"
      },
      "execution_count": 76,
      "outputs": [
        {
          "output_type": "execute_result",
          "data": {
            "text/plain": [
              "<Axes: >"
            ]
          },
          "metadata": {},
          "execution_count": 76
        },
        {
          "output_type": "display_data",
          "data": {
            "text/plain": [
              "<Figure size 640x480 with 2 Axes>"
            ],
            "image/png": "[encoded data removed]"
          },
          "metadata": {}
        }
      ]
    },
    {
      "cell_type": "code",
      "source": [],
      "metadata": {
        "id": "kdYUcmzIN9AL"
      },
      "execution_count": null,
      "outputs": []
    }
  ]
}